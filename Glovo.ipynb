{
  "nbformat": 4,
  "nbformat_minor": 0,
  "metadata": {
    "colab": {
      "name": "Glovo",
      "provenance": [],
      "authorship_tag": "ABX9TyOQhtLVePR8axOqI5L/SYWu",
      "include_colab_link": true
    },
    "kernelspec": {
      "name": "python3",
      "display_name": "Python 3"
    },
    "language_info": {
      "name": "python"
    }
  },
  "cells": [
    {
      "cell_type": "markdown",
      "metadata": {
        "id": "view-in-github",
        "colab_type": "text"
      },
      "source": [
        "<a href=\"https://colab.research.google.com/github/JoaoVitorDeOliveira/AWSLocal/blob/master/Glovo.ipynb\" target=\"_parent\"><img src=\"https://colab.research.google.com/assets/colab-badge.svg\" alt=\"Open In Colab\"/></a>"
      ]
    },
    {
      "cell_type": "code",
      "execution_count": 24,
      "metadata": {
        "id": "0ayHsaHelGT-"
      },
      "outputs": [],
      "source": [
        "# All dependecies and configurations to create a Spark Environment on Colab\n",
        "!apt-get install openjdk-8-jdk-headless -qq > /dev/null\n",
        "!wget -q https://archive.apache.org/dist/spark/spark-2.4.4/spark-2.4.4-bin-hadoop2.7.tgz\n",
        "!tar xf spark-2.4.4-bin-hadoop2.7.tgz\n",
        "!pip install -q findspark\n",
        "\n",
        "import os\n",
        "os.environ[\"JAVA_HOME\"] = \"/usr/lib/jvm/java-8-openjdk-amd64\"\n",
        "os.environ[\"SPARK_HOME\"] = \"/content/spark-2.4.4-bin-hadoop2.7\"\n",
        "\n",
        "# make pyspark importable in the environment\n",
        "import findspark\n",
        "findspark.init('spark-2.4.4-bin-hadoop2.7')"
      ]
    },
    {
      "cell_type": "code",
      "source": [
        "from pyspark.sql import SparkSession\n",
        "sc = SparkSession.builder.master('local[*]').getOrCreate()"
      ],
      "metadata": {
        "colab": {
          "base_uri": "https://localhost:8080/",
          "height": 1000
        },
        "id": "_tcZSZTjA7P8",
        "outputId": "5d205da3-dc16-47be-9e2a-8958a0f5941d"
      },
      "execution_count": 25,
      "outputs": [
        {
          "output_type": "stream",
          "name": "stderr",
          "text": [
            "ERROR:py4j.java_gateway:An error occurred while trying to connect to the Java server (127.0.0.1:45255)\n",
            "Traceback (most recent call last):\n",
            "  File \"spark-2.4.4-bin-hadoop2.7/python/lib/py4j-0.10.7-src.zip/py4j/java_gateway.py\", line 929, in _get_connection\n",
            "    connection = self.deque.pop()\n",
            "IndexError: pop from an empty deque\n",
            "\n",
            "During handling of the above exception, another exception occurred:\n",
            "\n",
            "Traceback (most recent call last):\n",
            "  File \"spark-2.4.4-bin-hadoop2.7/python/lib/py4j-0.10.7-src.zip/py4j/java_gateway.py\", line 1067, in start\n",
            "    self.socket.connect((self.address, self.port))\n",
            "ConnectionRefusedError: [Errno 111] Connection refused\n"
          ]
        },
        {
          "output_type": "error",
          "ename": "Py4JNetworkError",
          "evalue": "ignored",
          "traceback": [
            "\u001b[0;31m---------------------------------------------------------------------------\u001b[0m",
            "\u001b[0;31mIndexError\u001b[0m                                Traceback (most recent call last)",
            "\u001b[0;32mspark-2.4.4-bin-hadoop2.7/python/lib/py4j-0.10.7-src.zip/py4j/java_gateway.py\u001b[0m in \u001b[0;36m_get_connection\u001b[0;34m(self)\u001b[0m\n\u001b[1;32m    928\u001b[0m         \u001b[0;32mtry\u001b[0m\u001b[0;34m:\u001b[0m\u001b[0;34m\u001b[0m\u001b[0;34m\u001b[0m\u001b[0m\n\u001b[0;32m--> 929\u001b[0;31m             \u001b[0mconnection\u001b[0m \u001b[0;34m=\u001b[0m \u001b[0mself\u001b[0m\u001b[0;34m.\u001b[0m\u001b[0mdeque\u001b[0m\u001b[0;34m.\u001b[0m\u001b[0mpop\u001b[0m\u001b[0;34m(\u001b[0m\u001b[0;34m)\u001b[0m\u001b[0;34m\u001b[0m\u001b[0;34m\u001b[0m\u001b[0m\n\u001b[0m\u001b[1;32m    930\u001b[0m         \u001b[0;32mexcept\u001b[0m \u001b[0mIndexError\u001b[0m\u001b[0;34m:\u001b[0m\u001b[0;34m\u001b[0m\u001b[0;34m\u001b[0m\u001b[0m\n",
            "\u001b[0;31mIndexError\u001b[0m: pop from an empty deque",
            "\nDuring handling of the above exception, another exception occurred:\n",
            "\u001b[0;31mConnectionRefusedError\u001b[0m                    Traceback (most recent call last)",
            "\u001b[0;32mspark-2.4.4-bin-hadoop2.7/python/lib/py4j-0.10.7-src.zip/py4j/java_gateway.py\u001b[0m in \u001b[0;36mstart\u001b[0;34m(self)\u001b[0m\n\u001b[1;32m   1066\u001b[0m         \u001b[0;32mtry\u001b[0m\u001b[0;34m:\u001b[0m\u001b[0;34m\u001b[0m\u001b[0;34m\u001b[0m\u001b[0m\n\u001b[0;32m-> 1067\u001b[0;31m             \u001b[0mself\u001b[0m\u001b[0;34m.\u001b[0m\u001b[0msocket\u001b[0m\u001b[0;34m.\u001b[0m\u001b[0mconnect\u001b[0m\u001b[0;34m(\u001b[0m\u001b[0;34m(\u001b[0m\u001b[0mself\u001b[0m\u001b[0;34m.\u001b[0m\u001b[0maddress\u001b[0m\u001b[0;34m,\u001b[0m \u001b[0mself\u001b[0m\u001b[0;34m.\u001b[0m\u001b[0mport\u001b[0m\u001b[0;34m)\u001b[0m\u001b[0;34m)\u001b[0m\u001b[0;34m\u001b[0m\u001b[0;34m\u001b[0m\u001b[0m\n\u001b[0m\u001b[1;32m   1068\u001b[0m             \u001b[0mself\u001b[0m\u001b[0;34m.\u001b[0m\u001b[0mstream\u001b[0m \u001b[0;34m=\u001b[0m \u001b[0mself\u001b[0m\u001b[0;34m.\u001b[0m\u001b[0msocket\u001b[0m\u001b[0;34m.\u001b[0m\u001b[0mmakefile\u001b[0m\u001b[0;34m(\u001b[0m\u001b[0;34m\"rb\"\u001b[0m\u001b[0;34m)\u001b[0m\u001b[0;34m\u001b[0m\u001b[0;34m\u001b[0m\u001b[0m\n",
            "\u001b[0;31mConnectionRefusedError\u001b[0m: [Errno 111] Connection refused",
            "\nDuring handling of the above exception, another exception occurred:\n",
            "\u001b[0;31mPy4JNetworkError\u001b[0m                          Traceback (most recent call last)",
            "\u001b[0;32m<ipython-input-25-924759be1bd4>\u001b[0m in \u001b[0;36m<module>\u001b[0;34m()\u001b[0m\n\u001b[1;32m      1\u001b[0m \u001b[0;32mfrom\u001b[0m \u001b[0mpyspark\u001b[0m\u001b[0;34m.\u001b[0m\u001b[0msql\u001b[0m \u001b[0;32mimport\u001b[0m \u001b[0mSparkSession\u001b[0m\u001b[0;34m\u001b[0m\u001b[0;34m\u001b[0m\u001b[0m\n\u001b[0;32m----> 2\u001b[0;31m \u001b[0msc\u001b[0m \u001b[0;34m=\u001b[0m \u001b[0mSparkSession\u001b[0m\u001b[0;34m.\u001b[0m\u001b[0mbuilder\u001b[0m\u001b[0;34m.\u001b[0m\u001b[0mmaster\u001b[0m\u001b[0;34m(\u001b[0m\u001b[0;34m'local[*]'\u001b[0m\u001b[0;34m)\u001b[0m\u001b[0;34m.\u001b[0m\u001b[0mgetOrCreate\u001b[0m\u001b[0;34m(\u001b[0m\u001b[0;34m)\u001b[0m\u001b[0;34m\u001b[0m\u001b[0;34m\u001b[0m\u001b[0m\n\u001b[0m",
            "\u001b[0;32m/content/spark-2.4.4-bin-hadoop2.7/python/pyspark/sql/session.py\u001b[0m in \u001b[0;36mgetOrCreate\u001b[0;34m(self)\u001b[0m\n\u001b[1;32m    181\u001b[0m                     \u001b[0msession\u001b[0m \u001b[0;34m=\u001b[0m \u001b[0mSparkSession\u001b[0m\u001b[0;34m(\u001b[0m\u001b[0msc\u001b[0m\u001b[0;34m)\u001b[0m\u001b[0;34m\u001b[0m\u001b[0;34m\u001b[0m\u001b[0m\n\u001b[1;32m    182\u001b[0m                 \u001b[0;32mfor\u001b[0m \u001b[0mkey\u001b[0m\u001b[0;34m,\u001b[0m \u001b[0mvalue\u001b[0m \u001b[0;32min\u001b[0m \u001b[0mself\u001b[0m\u001b[0;34m.\u001b[0m\u001b[0m_options\u001b[0m\u001b[0;34m.\u001b[0m\u001b[0mitems\u001b[0m\u001b[0;34m(\u001b[0m\u001b[0;34m)\u001b[0m\u001b[0;34m:\u001b[0m\u001b[0;34m\u001b[0m\u001b[0;34m\u001b[0m\u001b[0m\n\u001b[0;32m--> 183\u001b[0;31m                     \u001b[0msession\u001b[0m\u001b[0;34m.\u001b[0m\u001b[0m_jsparkSession\u001b[0m\u001b[0;34m.\u001b[0m\u001b[0msessionState\u001b[0m\u001b[0;34m(\u001b[0m\u001b[0;34m)\u001b[0m\u001b[0;34m.\u001b[0m\u001b[0mconf\u001b[0m\u001b[0;34m(\u001b[0m\u001b[0;34m)\u001b[0m\u001b[0;34m.\u001b[0m\u001b[0msetConfString\u001b[0m\u001b[0;34m(\u001b[0m\u001b[0mkey\u001b[0m\u001b[0;34m,\u001b[0m \u001b[0mvalue\u001b[0m\u001b[0;34m)\u001b[0m\u001b[0;34m\u001b[0m\u001b[0;34m\u001b[0m\u001b[0m\n\u001b[0m\u001b[1;32m    184\u001b[0m                 \u001b[0;32mfor\u001b[0m \u001b[0mkey\u001b[0m\u001b[0;34m,\u001b[0m \u001b[0mvalue\u001b[0m \u001b[0;32min\u001b[0m \u001b[0mself\u001b[0m\u001b[0;34m.\u001b[0m\u001b[0m_options\u001b[0m\u001b[0;34m.\u001b[0m\u001b[0mitems\u001b[0m\u001b[0;34m(\u001b[0m\u001b[0;34m)\u001b[0m\u001b[0;34m:\u001b[0m\u001b[0;34m\u001b[0m\u001b[0;34m\u001b[0m\u001b[0m\n\u001b[1;32m    185\u001b[0m                     \u001b[0msession\u001b[0m\u001b[0;34m.\u001b[0m\u001b[0msparkContext\u001b[0m\u001b[0;34m.\u001b[0m\u001b[0m_conf\u001b[0m\u001b[0;34m.\u001b[0m\u001b[0mset\u001b[0m\u001b[0;34m(\u001b[0m\u001b[0mkey\u001b[0m\u001b[0;34m,\u001b[0m \u001b[0mvalue\u001b[0m\u001b[0;34m)\u001b[0m\u001b[0;34m\u001b[0m\u001b[0;34m\u001b[0m\u001b[0m\n",
            "\u001b[0;32mspark-2.4.4-bin-hadoop2.7/python/lib/py4j-0.10.7-src.zip/py4j/java_gateway.py\u001b[0m in \u001b[0;36m__call__\u001b[0;34m(self, *args)\u001b[0m\n\u001b[1;32m   1253\u001b[0m             \u001b[0mproto\u001b[0m\u001b[0;34m.\u001b[0m\u001b[0mEND_COMMAND_PART\u001b[0m\u001b[0;34m\u001b[0m\u001b[0;34m\u001b[0m\u001b[0m\n\u001b[1;32m   1254\u001b[0m \u001b[0;34m\u001b[0m\u001b[0m\n\u001b[0;32m-> 1255\u001b[0;31m         \u001b[0manswer\u001b[0m \u001b[0;34m=\u001b[0m \u001b[0mself\u001b[0m\u001b[0;34m.\u001b[0m\u001b[0mgateway_client\u001b[0m\u001b[0;34m.\u001b[0m\u001b[0msend_command\u001b[0m\u001b[0;34m(\u001b[0m\u001b[0mcommand\u001b[0m\u001b[0;34m)\u001b[0m\u001b[0;34m\u001b[0m\u001b[0;34m\u001b[0m\u001b[0m\n\u001b[0m\u001b[1;32m   1256\u001b[0m         return_value = get_return_value(\n\u001b[1;32m   1257\u001b[0m             answer, self.gateway_client, self.target_id, self.name)\n",
            "\u001b[0;32mspark-2.4.4-bin-hadoop2.7/python/lib/py4j-0.10.7-src.zip/py4j/java_gateway.py\u001b[0m in \u001b[0;36msend_command\u001b[0;34m(self, command, retry, binary)\u001b[0m\n\u001b[1;32m    981\u001b[0m          \u001b[0;32mif\u001b[0m\u001b[0;31m \u001b[0m\u001b[0;31m`\u001b[0m\u001b[0mbinary\u001b[0m\u001b[0;31m`\u001b[0m \u001b[0;32mis\u001b[0m\u001b[0;31m \u001b[0m\u001b[0;31m`\u001b[0m\u001b[0;32mTrue\u001b[0m\u001b[0;31m`\u001b[0m\u001b[0;34m.\u001b[0m\u001b[0;34m\u001b[0m\u001b[0;34m\u001b[0m\u001b[0m\n\u001b[1;32m    982\u001b[0m         \"\"\"\n\u001b[0;32m--> 983\u001b[0;31m         \u001b[0mconnection\u001b[0m \u001b[0;34m=\u001b[0m \u001b[0mself\u001b[0m\u001b[0;34m.\u001b[0m\u001b[0m_get_connection\u001b[0m\u001b[0;34m(\u001b[0m\u001b[0;34m)\u001b[0m\u001b[0;34m\u001b[0m\u001b[0;34m\u001b[0m\u001b[0m\n\u001b[0m\u001b[1;32m    984\u001b[0m         \u001b[0;32mtry\u001b[0m\u001b[0;34m:\u001b[0m\u001b[0;34m\u001b[0m\u001b[0;34m\u001b[0m\u001b[0m\n\u001b[1;32m    985\u001b[0m             \u001b[0mresponse\u001b[0m \u001b[0;34m=\u001b[0m \u001b[0mconnection\u001b[0m\u001b[0;34m.\u001b[0m\u001b[0msend_command\u001b[0m\u001b[0;34m(\u001b[0m\u001b[0mcommand\u001b[0m\u001b[0;34m)\u001b[0m\u001b[0;34m\u001b[0m\u001b[0;34m\u001b[0m\u001b[0m\n",
            "\u001b[0;32mspark-2.4.4-bin-hadoop2.7/python/lib/py4j-0.10.7-src.zip/py4j/java_gateway.py\u001b[0m in \u001b[0;36m_get_connection\u001b[0;34m(self)\u001b[0m\n\u001b[1;32m    929\u001b[0m             \u001b[0mconnection\u001b[0m \u001b[0;34m=\u001b[0m \u001b[0mself\u001b[0m\u001b[0;34m.\u001b[0m\u001b[0mdeque\u001b[0m\u001b[0;34m.\u001b[0m\u001b[0mpop\u001b[0m\u001b[0;34m(\u001b[0m\u001b[0;34m)\u001b[0m\u001b[0;34m\u001b[0m\u001b[0;34m\u001b[0m\u001b[0m\n\u001b[1;32m    930\u001b[0m         \u001b[0;32mexcept\u001b[0m \u001b[0mIndexError\u001b[0m\u001b[0;34m:\u001b[0m\u001b[0;34m\u001b[0m\u001b[0;34m\u001b[0m\u001b[0m\n\u001b[0;32m--> 931\u001b[0;31m             \u001b[0mconnection\u001b[0m \u001b[0;34m=\u001b[0m \u001b[0mself\u001b[0m\u001b[0;34m.\u001b[0m\u001b[0m_create_connection\u001b[0m\u001b[0;34m(\u001b[0m\u001b[0;34m)\u001b[0m\u001b[0;34m\u001b[0m\u001b[0;34m\u001b[0m\u001b[0m\n\u001b[0m\u001b[1;32m    932\u001b[0m         \u001b[0;32mreturn\u001b[0m \u001b[0mconnection\u001b[0m\u001b[0;34m\u001b[0m\u001b[0;34m\u001b[0m\u001b[0m\n\u001b[1;32m    933\u001b[0m \u001b[0;34m\u001b[0m\u001b[0m\n",
            "\u001b[0;32mspark-2.4.4-bin-hadoop2.7/python/lib/py4j-0.10.7-src.zip/py4j/java_gateway.py\u001b[0m in \u001b[0;36m_create_connection\u001b[0;34m(self)\u001b[0m\n\u001b[1;32m    935\u001b[0m         connection = GatewayConnection(\n\u001b[1;32m    936\u001b[0m             self.gateway_parameters, self.gateway_property)\n\u001b[0;32m--> 937\u001b[0;31m         \u001b[0mconnection\u001b[0m\u001b[0;34m.\u001b[0m\u001b[0mstart\u001b[0m\u001b[0;34m(\u001b[0m\u001b[0;34m)\u001b[0m\u001b[0;34m\u001b[0m\u001b[0;34m\u001b[0m\u001b[0m\n\u001b[0m\u001b[1;32m    938\u001b[0m         \u001b[0;32mreturn\u001b[0m \u001b[0mconnection\u001b[0m\u001b[0;34m\u001b[0m\u001b[0;34m\u001b[0m\u001b[0m\n\u001b[1;32m    939\u001b[0m \u001b[0;34m\u001b[0m\u001b[0m\n",
            "\u001b[0;32mspark-2.4.4-bin-hadoop2.7/python/lib/py4j-0.10.7-src.zip/py4j/java_gateway.py\u001b[0m in \u001b[0;36mstart\u001b[0;34m(self)\u001b[0m\n\u001b[1;32m   1077\u001b[0m                 \u001b[0;34m\"server ({0}:{1})\"\u001b[0m\u001b[0;34m.\u001b[0m\u001b[0mformat\u001b[0m\u001b[0;34m(\u001b[0m\u001b[0mself\u001b[0m\u001b[0;34m.\u001b[0m\u001b[0maddress\u001b[0m\u001b[0;34m,\u001b[0m \u001b[0mself\u001b[0m\u001b[0;34m.\u001b[0m\u001b[0mport\u001b[0m\u001b[0;34m)\u001b[0m\u001b[0;34m\u001b[0m\u001b[0;34m\u001b[0m\u001b[0m\n\u001b[1;32m   1078\u001b[0m             \u001b[0mlogger\u001b[0m\u001b[0;34m.\u001b[0m\u001b[0mexception\u001b[0m\u001b[0;34m(\u001b[0m\u001b[0mmsg\u001b[0m\u001b[0;34m)\u001b[0m\u001b[0;34m\u001b[0m\u001b[0;34m\u001b[0m\u001b[0m\n\u001b[0;32m-> 1079\u001b[0;31m             \u001b[0;32mraise\u001b[0m \u001b[0mPy4JNetworkError\u001b[0m\u001b[0;34m(\u001b[0m\u001b[0mmsg\u001b[0m\u001b[0;34m,\u001b[0m \u001b[0me\u001b[0m\u001b[0;34m)\u001b[0m\u001b[0;34m\u001b[0m\u001b[0;34m\u001b[0m\u001b[0m\n\u001b[0m\u001b[1;32m   1080\u001b[0m \u001b[0;34m\u001b[0m\u001b[0m\n\u001b[1;32m   1081\u001b[0m     \u001b[0;32mdef\u001b[0m \u001b[0m_authenticate_connection\u001b[0m\u001b[0;34m(\u001b[0m\u001b[0mself\u001b[0m\u001b[0;34m)\u001b[0m\u001b[0;34m:\u001b[0m\u001b[0;34m\u001b[0m\u001b[0;34m\u001b[0m\u001b[0m\n",
            "\u001b[0;31mPy4JNetworkError\u001b[0m: An error occurred while trying to connect to the Java server (127.0.0.1:45255)"
          ]
        }
      ]
    },
    {
      "cell_type": "code",
      "source": [
        "# Download and import csv files to Spark Environment on Colab\n",
        "!wget --quiet --show-progress -O connectivity_status.csv https://raw.githubusercontent.com/JoaoVitorDeOliveira/glovo/main/connectivity_status.csv\n",
        "df_connectivity_status = sc.read.csv(\"./connectivity_status.csv\", inferSchema=True, header=True)\n",
        "\n",
        "!wget --quiet --show-progress -O orders.csv https://raw.githubusercontent.com/JoaoVitorDeOliveira/glovo/main/orders.csv\n",
        "df_orders = sc.read.csv(\"./orders.csv\", inferSchema=True, header=True)\n",
        "\n",
        "!wget --quiet --show-progress -O polling.csv https://raw.githubusercontent.com/JoaoVitorDeOliveira/glovo/main/polling.csv\n",
        "df_polling = sc.read.csv(\"./polling.csv\", inferSchema=True, header=True)"
      ],
      "metadata": {
        "colab": {
          "base_uri": "https://localhost:8080/"
        },
        "id": "apI_p39Kl69o",
        "outputId": "5ef6dfd5-6b75-4dc5-f8b7-4df8582f1621"
      },
      "execution_count": 2,
      "outputs": [
        {
          "output_type": "stream",
          "name": "stdout",
          "text": [
            "connectivity_status 100%[===================>]   2.52M  --.-KB/s    in 0.07s   \n",
            "orders.csv          100%[===================>] 163.77K  --.-KB/s    in 0.02s   \n",
            "polling.csv         100%[===================>]  24.30M   153MB/s    in 0.2s    \n"
          ]
        }
      ]
    },
    {
      "cell_type": "code",
      "source": [
        "df_orders.show()"
      ],
      "metadata": {
        "colab": {
          "base_uri": "https://localhost:8080/"
        },
        "id": "623zZCi-mce0",
        "outputId": "269d26f5-ab2a-4813-9067-217a08116151"
      },
      "execution_count": null,
      "outputs": [
        {
          "output_type": "stream",
          "name": "stdout",
          "text": [
            "+---+-------------------+---------+--------------------+\n",
            "|_c0|order_creation_time| order_id|           device_id|\n",
            "+---+-------------------+---------+--------------------+\n",
            "|  0|2020-02-26 13:29:00|102523405|                null|\n",
            "|  1|2020-02-26 21:13:24|102641477|                null|\n",
            "|  2|2020-02-26 17:04:33|102563229|                null|\n",
            "|  3|2020-02-26 20:07:45|102622016|                null|\n",
            "|  4|2020-02-26 21:19:25|102643455|                null|\n",
            "|  5|2020-02-26 00:08:19|102452116|d0bc996f-72d2-4ec...|\n",
            "|  6|2020-02-26 10:34:36|102492697|2bb11f99-ab21-462...|\n",
            "|  7|2020-02-26 11:32:47|102500373|2aec0e20-e1d8-432...|\n",
            "|  8|2020-02-26 11:46:17|102503173|37638585-a181-426...|\n",
            "|  9|2020-02-26 11:38:40|102501909|53d16c33-5980-4ad...|\n",
            "| 10|2020-02-26 11:57:53|102504038|3c533ccb-8739-49c...|\n",
            "| 11|2020-02-26 12:26:11|102510286|82fb1d95-c894-449...|\n",
            "| 12|2020-02-26 12:46:31|102514893|7995c021-8983-4f5...|\n",
            "| 13|2020-02-26 12:52:04|102515379|1cdc8ef5-3752-420...|\n",
            "| 14|2020-02-26 13:40:44|102525697|e7dd9fe8-03e8-41a...|\n",
            "| 15|2020-02-26 14:03:08|102529774|4e45b3b4-85c0-4b7...|\n",
            "| 16|2020-02-26 14:49:09|102538753|b16ec522-f02a-4f7...|\n",
            "| 17|2020-02-26 14:54:07|102539659|f6ef8126-4539-429...|\n",
            "| 18|2020-02-26 15:10:59|102542793|c4564dc0-53db-4f9...|\n",
            "| 19|2020-02-26 16:48:55|102562504|fce72c29-13f9-463...|\n",
            "+---+-------------------+---------+--------------------+\n",
            "only showing top 20 rows\n",
            "\n"
          ]
        }
      ]
    },
    {
      "cell_type": "code",
      "source": [
        "df_connectivity_status.show()"
      ],
      "metadata": {
        "colab": {
          "base_uri": "https://localhost:8080/"
        },
        "id": "SUXBTo14oAEn",
        "outputId": "1e225cb7-2bfe-4ad3-883d-cc2eba37d02e"
      },
      "execution_count": null,
      "outputs": [
        {
          "output_type": "stream",
          "name": "stdout",
          "text": [
            "+---+--------------------+-------+--------------------+\n",
            "|_c0|       creation_time| status|           device_id|\n",
            "+---+--------------------+-------+--------------------+\n",
            "|  0|2020-02-26 19:31:...|OFFLINE|00083c70-7f54-432...|\n",
            "|  1|2020-02-26 19:31:...| ONLINE|00083c70-7f54-432...|\n",
            "|  2|2020-02-26 20:08:...|OFFLINE|000fec74-a5b4-40f...|\n",
            "|  3|2020-02-26 20:09:...| ONLINE|000fec74-a5b4-40f...|\n",
            "|  4|2020-02-26 00:30:...|OFFLINE|001d3c67-99fd-43b...|\n",
            "|  5|2020-02-26 00:30:...| ONLINE|001d3c67-99fd-43b...|\n",
            "|  6|2020-02-26 09:02:...|OFFLINE|002315d2-9ec3-468...|\n",
            "|  7|2020-02-26 09:02:...| ONLINE|002315d2-9ec3-468...|\n",
            "|  8|2020-02-26 03:20:...|OFFLINE|002ec021-a3e8-473...|\n",
            "|  9|2020-02-26 03:20:...|OFFLINE|002ec021-a3e8-473...|\n",
            "| 10|2020-02-26 03:20:...| ONLINE|002ec021-a3e8-473...|\n",
            "| 11|2020-02-26 03:20:...| ONLINE|002ec021-a3e8-473...|\n",
            "| 12|2020-02-26 09:41:...|OFFLINE|002ec021-a3e8-473...|\n",
            "| 13|2020-02-26 09:41:...|OFFLINE|002ec021-a3e8-473...|\n",
            "| 14|2020-02-26 09:41:...| ONLINE|002ec021-a3e8-473...|\n",
            "| 15|2020-02-26 09:41:...| ONLINE|002ec021-a3e8-473...|\n",
            "| 16|2020-02-26 09:42:...|OFFLINE|002ec021-a3e8-473...|\n",
            "| 17|2020-02-26 09:42:...|OFFLINE|002ec021-a3e8-473...|\n",
            "| 18|2020-02-26 09:42:...| ONLINE|002ec021-a3e8-473...|\n",
            "| 19|2020-02-26 09:42:...| ONLINE|002ec021-a3e8-473...|\n",
            "+---+--------------------+-------+--------------------+\n",
            "only showing top 20 rows\n",
            "\n"
          ]
        }
      ]
    },
    {
      "cell_type": "code",
      "source": [
        "df_polling.show()"
      ],
      "metadata": {
        "colab": {
          "base_uri": "https://localhost:8080/"
        },
        "id": "xhdCbzLCoIMr",
        "outputId": "4150a3f3-5aa6-45d8-ad86-335b1c72c80a"
      },
      "execution_count": null,
      "outputs": [
        {
          "output_type": "stream",
          "name": "stdout",
          "text": [
            "+---+--------------------+--------------------+----------+-----------+\n",
            "|_c0|       creation_time|           device_id|error_code|status_code|\n",
            "+---+--------------------+--------------------+----------+-----------+\n",
            "|  0|2020-02-26 19:16:...|d0460656-95e0-484...|      null|        200|\n",
            "|  1|2020-02-26 19:16:...|d0460656-95e0-484...|      null|        200|\n",
            "|  2|2020-02-26 18:31:...|d0460656-95e0-484...|      null|        200|\n",
            "|  3|2020-02-26 18:31:...|d0460656-95e0-484...|      null|        200|\n",
            "|  4|2020-02-26 18:31:...|d0460656-95e0-484...|      null|        200|\n",
            "|  5|2020-02-26 18:30:...|d0460656-95e0-484...|      null|        200|\n",
            "|  6|2020-02-26 18:30:...|d0460656-95e0-484...|      null|        200|\n",
            "|  7|2020-02-26 18:30:...|d0460656-95e0-484...|      null|        200|\n",
            "|  8|2020-02-26 18:30:...|d0460656-95e0-484...|      null|        200|\n",
            "|  9|2020-02-26 18:30:...|d0460656-95e0-484...|      null|        200|\n",
            "| 10|2020-02-26 18:30:...|d0460656-95e0-484...|      null|        200|\n",
            "| 11|2020-02-26 18:29:...|d0460656-95e0-484...|      null|        200|\n",
            "| 12|2020-02-26 18:27:...|d0460656-95e0-484...|      null|        200|\n",
            "| 13|2020-02-26 18:27:...|d0460656-95e0-484...|      null|        200|\n",
            "| 14|2020-02-26 18:26:...|d0460656-95e0-484...|      null|        200|\n",
            "| 15|2020-02-26 18:26:...|d0460656-95e0-484...|      null|        200|\n",
            "| 16|2020-02-26 18:26:...|d0460656-95e0-484...|      null|        200|\n",
            "| 17|2020-02-26 18:26:...|d0460656-95e0-484...|      null|        200|\n",
            "| 18|2020-02-26 18:25:...|d0460656-95e0-484...|      null|        200|\n",
            "| 19|2020-02-26 18:25:...|d0460656-95e0-484...|      null|        200|\n",
            "+---+--------------------+--------------------+----------+-----------+\n",
            "only showing top 20 rows\n",
            "\n"
          ]
        }
      ]
    },
    {
      "cell_type": "code",
      "source": [
        "df_orders_polling_con_status = (df_orders\n",
        "                                .join(df_polling, 'device_id', 'outer')\n",
        "                                .withColumnRenamed('creation_time', 'polling_creation_time')\n",
        "                                .join(df_connectivity_status, 'device_id', 'outer')\n",
        "                                .withColumnRenamed('creation_time', 'status_creation_time')\n",
        "                                .drop('_c0'))\n",
        "df_orders_polling_con_status.show()"
      ],
      "metadata": {
        "colab": {
          "base_uri": "https://localhost:8080/"
        },
        "id": "vW3aVuwgv4Fm",
        "outputId": "53734c3f-eeac-4d29-bf24-9b676c0bc381"
      },
      "execution_count": 3,
      "outputs": [
        {
          "output_type": "stream",
          "name": "stdout",
          "text": [
            "+--------------------+-------------------+--------+---------------------+----------+-----------+--------------------+-------+\n",
            "|           device_id|order_creation_time|order_id|polling_creation_time|error_code|status_code|status_creation_time| status|\n",
            "+--------------------+-------------------+--------+---------------------+----------+-----------+--------------------+-------+\n",
            "|004fbfe1-a85a-4ab...|               null|    null|                 null|      null|       null|2020-02-26 07:22:...| ONLINE|\n",
            "|004fbfe1-a85a-4ab...|               null|    null|                 null|      null|       null|2020-02-26 08:27:...|OFFLINE|\n",
            "|004fbfe1-a85a-4ab...|               null|    null|                 null|      null|       null|2020-02-26 08:38:...| ONLINE|\n",
            "|004fbfe1-a85a-4ab...|               null|    null|                 null|      null|       null|2020-02-26 12:44:...|OFFLINE|\n",
            "|004fbfe1-a85a-4ab...|               null|    null|                 null|      null|       null|2020-02-26 12:49:...| ONLINE|\n",
            "|004fbfe1-a85a-4ab...|               null|    null|                 null|      null|       null|2020-02-26 17:21:...|OFFLINE|\n",
            "|004fbfe1-a85a-4ab...|               null|    null|                 null|      null|       null|2020-02-26 19:36:...| ONLINE|\n",
            "|004fbfe1-a85a-4ab...|               null|    null|                 null|      null|       null|2020-02-26 22:00:...|OFFLINE|\n",
            "|275242de-7b01-4dc...|               null|    null|                 null|      null|       null|2020-02-26 06:46:...|OFFLINE|\n",
            "|275242de-7b01-4dc...|               null|    null|                 null|      null|       null|2020-02-26 06:47:...| ONLINE|\n",
            "|275242de-7b01-4dc...|               null|    null|                 null|      null|       null|2020-02-26 08:46:...|OFFLINE|\n",
            "|275242de-7b01-4dc...|               null|    null|                 null|      null|       null|2020-02-26 08:46:...| ONLINE|\n",
            "|275242de-7b01-4dc...|               null|    null|                 null|      null|       null|2020-02-26 18:47:...|OFFLINE|\n",
            "|275242de-7b01-4dc...|               null|    null|                 null|      null|       null|2020-02-26 18:47:...| ONLINE|\n",
            "|40b468fa-f1c0-403...|               null|    null|                 null|      null|       null|2020-02-26 18:49:...|OFFLINE|\n",
            "|40b468fa-f1c0-403...|               null|    null|                 null|      null|       null|2020-02-26 18:49:...| ONLINE|\n",
            "|40b468fa-f1c0-403...|               null|    null|                 null|      null|       null|2020-02-26 20:26:...|OFFLINE|\n",
            "|40b468fa-f1c0-403...|               null|    null|                 null|      null|       null|2020-02-26 20:26:...| ONLINE|\n",
            "|40b468fa-f1c0-403...|               null|    null|                 null|      null|       null|2020-02-26 21:22:...|OFFLINE|\n",
            "|40b468fa-f1c0-403...|               null|    null|                 null|      null|       null|2020-02-26 21:22:...| ONLINE|\n",
            "+--------------------+-------------------+--------+---------------------+----------+-----------+--------------------+-------+\n",
            "only showing top 20 rows\n",
            "\n"
          ]
        }
      ]
    },
    {
      "cell_type": "code",
      "source": [
        "df_orders_polling_con_status = df_orders_polling_con_status.where('order_creation_time IS NOT NULL')"
      ],
      "metadata": {
        "id": "b7wCRXWix56z"
      },
      "execution_count": 6,
      "outputs": []
    },
    {
      "cell_type": "code",
      "source": [
        "import pyspark.sql.functions as f\n",
        "from pyspark.sql.window import Window"
      ],
      "metadata": {
        "id": "gVQ9bi987DQ4"
      },
      "execution_count": 7,
      "outputs": []
    },
    {
      "cell_type": "code",
      "source": [
        "df_orders_polling_con_status.printSchema()"
      ],
      "metadata": {
        "colab": {
          "base_uri": "https://localhost:8080/"
        },
        "id": "rij1IAa59l3A",
        "outputId": "eef816b5-564d-41e6-cb1b-53f133d85f0b"
      },
      "execution_count": null,
      "outputs": [
        {
          "output_type": "stream",
          "name": "stdout",
          "text": [
            "root\n",
            " |-- device_id: string (nullable = true)\n",
            " |-- _c0: integer (nullable = true)\n",
            " |-- order_creation_time: timestamp (nullable = true)\n",
            " |-- order_id: integer (nullable = true)\n",
            " |-- _c0: integer (nullable = true)\n",
            " |-- creation_time: timestamp (nullable = true)\n",
            " |-- error_code: string (nullable = true)\n",
            " |-- status_code: integer (nullable = true)\n",
            " |-- _c0: integer (nullable = true)\n",
            " |-- creation_time: timestamp (nullable = true)\n",
            " |-- status: string (nullable = true)\n",
            "\n"
          ]
        }
      ]
    },
    {
      "cell_type": "code",
      "source": [
        "df_orders_polling_con_status.groupBy(f.window('order_creation_time', '3 minutes')).agg(f.count('order_id').alias('orders')).show(truncate=False)"
      ],
      "metadata": {
        "colab": {
          "base_uri": "https://localhost:8080/"
        },
        "id": "zrZMkroP7SKh",
        "outputId": "4b292397-0d06-4605-b7a2-bd577007c803"
      },
      "execution_count": null,
      "outputs": [
        {
          "output_type": "stream",
          "name": "stdout",
          "text": [
            "+------------------------------------------+------+\n",
            "|window                                    |orders|\n",
            "+------------------------------------------+------+\n",
            "|[2020-02-26 12:51:00, 2020-02-26 12:54:00]|26057 |\n",
            "|[2020-02-26 12:21:00, 2020-02-26 12:24:00]|53595 |\n",
            "|[2020-02-26 17:51:00, 2020-02-26 17:54:00]|8826  |\n",
            "|[2020-02-26 22:03:00, 2020-02-26 22:06:00]|35260 |\n",
            "|[2020-02-26 18:15:00, 2020-02-26 18:18:00]|44331 |\n",
            "|[2020-02-26 12:18:00, 2020-02-26 12:21:00]|28702 |\n",
            "|[2020-02-26 17:03:00, 2020-02-26 17:06:00]|16405 |\n",
            "|[2020-02-26 09:00:00, 2020-02-26 09:03:00]|9362  |\n",
            "|[2020-02-26 21:33:00, 2020-02-26 21:36:00]|13319 |\n",
            "|[2020-02-26 23:54:00, 2020-02-26 23:57:00]|478   |\n",
            "|[2020-02-26 20:12:00, 2020-02-26 20:15:00]|100592|\n",
            "|[2020-02-26 14:03:00, 2020-02-26 14:06:00]|52663 |\n",
            "|[2020-02-26 13:51:00, 2020-02-26 13:54:00]|41274 |\n",
            "|[2020-02-26 21:54:00, 2020-02-26 21:57:00]|277750|\n",
            "|[2020-02-26 08:03:00, 2020-02-26 08:06:00]|708   |\n",
            "|[2020-02-26 00:06:00, 2020-02-26 00:09:00]|9396  |\n",
            "|[2020-02-26 12:57:00, 2020-02-26 13:00:00]|24387 |\n",
            "|[2020-02-26 22:15:00, 2020-02-26 22:18:00]|30880 |\n",
            "|[2020-02-26 20:33:00, 2020-02-26 20:36:00]|86486 |\n",
            "|[2020-02-26 11:54:00, 2020-02-26 11:57:00]|37309 |\n",
            "+------------------------------------------+------+\n",
            "only showing top 20 rows\n",
            "\n"
          ]
        }
      ]
    },
    {
      "cell_type": "code",
      "source": [
        "df_enhanced = (df_orders_polling_con_status\n",
        "               #.withColumn('oct_minus_3_min', f.col(\"order_creation_time\") - f.expr(\"INTERVAL 3 minutes\"))\n",
        "               #.withColumn('oct_plus_3_min', f.col(\"order_creation_time\") + f.expr(\"INTERVAL 3 minutes\"))\n",
        "               #.withColumn('oct_minus_1_hour', f.col(\"order_creation_time\") - f.expr(\"INTERVAL 1 hours\"))\n",
        "               .withColumn(\"pct_preceding\", f.lead(\"polling_creation_time\",1).over(Window.orderBy('polling_creation_time')))\n",
        "               .withColumn(\"pct_following\", f.lag(\"polling_creation_time\",1).over(Window.orderBy('polling_creation_time'))))"
      ],
      "metadata": {
        "id": "H69wUEqfFtMR"
      },
      "execution_count": 8,
      "outputs": []
    },
    {
      "cell_type": "code",
      "source": [
        "df_enhanced.show()"
      ],
      "metadata": {
        "colab": {
          "base_uri": "https://localhost:8080/"
        },
        "id": "4cRyuiprV6m7",
        "outputId": "95a9f676-ca2a-4636-db76-f9a999c19465"
      },
      "execution_count": 8,
      "outputs": [
        {
          "output_type": "stream",
          "name": "stdout",
          "text": [
            "+--------------------+-------------------+---------+---------------------+----------+-----------+--------------------+------+-------------------+-------------------+-------------------+-------------+-------------+\n",
            "|           device_id|order_creation_time| order_id|polling_creation_time|error_code|status_code|status_creation_time|status|    oct_minus_3_min|     oct_plus_3_min|   oct_minus_1_hour|pct_preceding|pct_following|\n",
            "+--------------------+-------------------+---------+---------------------+----------+-----------+--------------------+------+-------------------+-------------------+-------------------+-------------+-------------+\n",
            "|94fd89c6-6324-465...|2020-02-26 15:14:48|102543610|                 null|      null|       null|                null|  null|2020-02-26 15:11:48|2020-02-26 15:17:48|2020-02-26 14:14:48|         null|         null|\n",
            "|7fae6206-7778-4d5...|2020-02-26 21:38:32|102647329|                 null|      null|       null|                null|  null|2020-02-26 21:35:32|2020-02-26 21:41:32|2020-02-26 20:38:32|         null|         null|\n",
            "|                null|2020-02-26 13:29:00|102523405|                 null|      null|       null|                null|  null|2020-02-26 13:26:00|2020-02-26 13:32:00|2020-02-26 12:29:00|         null|         null|\n",
            "|5d1a5bf1-4ce1-4cc...|2020-02-26 19:54:22|102617729|                 null|      null|       null|                null|  null|2020-02-26 19:51:22|2020-02-26 19:57:22|2020-02-26 18:54:22|         null|         null|\n",
            "|                null|2020-02-26 21:13:24|102641477|                 null|      null|       null|                null|  null|2020-02-26 21:10:24|2020-02-26 21:16:24|2020-02-26 20:13:24|         null|         null|\n",
            "|5d1a5bf1-4ce1-4cc...|2020-02-26 13:42:43|102526058|                 null|      null|       null|                null|  null|2020-02-26 13:39:43|2020-02-26 13:45:43|2020-02-26 12:42:43|         null|         null|\n",
            "|                null|2020-02-26 17:04:33|102563229|                 null|      null|       null|                null|  null|2020-02-26 17:01:33|2020-02-26 17:07:33|2020-02-26 16:04:33|         null|         null|\n",
            "|5d1a5bf1-4ce1-4cc...|2020-02-26 13:06:33|102518910|                 null|      null|       null|                null|  null|2020-02-26 13:03:33|2020-02-26 13:09:33|2020-02-26 12:06:33|         null|         null|\n",
            "|                null|2020-02-26 20:07:45|102622016|                 null|      null|       null|                null|  null|2020-02-26 20:04:45|2020-02-26 20:10:45|2020-02-26 19:07:45|         null|         null|\n",
            "|5d1a5bf1-4ce1-4cc...|2020-02-26 11:19:44|102498912|                 null|      null|       null|                null|  null|2020-02-26 11:16:44|2020-02-26 11:22:44|2020-02-26 10:19:44|         null|         null|\n",
            "|                null|2020-02-26 21:19:25|102643455|                 null|      null|       null|                null|  null|2020-02-26 21:16:25|2020-02-26 21:22:25|2020-02-26 20:19:25|         null|         null|\n",
            "|5d1a5bf1-4ce1-4cc...|2020-02-26 11:08:57|102497164|                 null|      null|       null|                null|  null|2020-02-26 11:05:57|2020-02-26 11:11:57|2020-02-26 10:08:57|         null|         null|\n",
            "|                null|2020-02-26 21:41:51|102647891|                 null|      null|       null|                null|  null|2020-02-26 21:38:51|2020-02-26 21:44:51|2020-02-26 20:41:51|         null|         null|\n",
            "|5d1a5bf1-4ce1-4cc...|2020-02-26 20:40:50|102633015|                 null|      null|       null|                null|  null|2020-02-26 20:37:50|2020-02-26 20:43:50|2020-02-26 19:40:50|         null|         null|\n",
            "|                null|2020-02-26 18:00:36|102580377|                 null|      null|       null|                null|  null|2020-02-26 17:57:36|2020-02-26 18:03:36|2020-02-26 17:00:36|         null|         null|\n",
            "|5d1a5bf1-4ce1-4cc...|2020-02-26 16:59:23|102564799|                 null|      null|       null|                null|  null|2020-02-26 16:56:23|2020-02-26 17:02:23|2020-02-26 15:59:23|         null|         null|\n",
            "|                null|2020-02-26 15:13:52|102543392|                 null|      null|       null|                null|  null|2020-02-26 15:10:52|2020-02-26 15:16:52|2020-02-26 14:13:52|         null|         null|\n",
            "|5d1a5bf1-4ce1-4cc...|2020-02-26 18:22:35|102586721|                 null|      null|       null|                null|  null|2020-02-26 18:19:35|2020-02-26 18:25:35|2020-02-26 17:22:35|         null|         null|\n",
            "|                null|2020-02-26 11:29:31|102499958|                 null|      null|       null|                null|  null|2020-02-26 11:26:31|2020-02-26 11:32:31|2020-02-26 10:29:31|         null|         null|\n",
            "|5d1a5bf1-4ce1-4cc...|2020-02-26 16:13:28|102555069|                 null|      null|       null|                null|  null|2020-02-26 16:10:28|2020-02-26 16:16:28|2020-02-26 15:13:28|         null|         null|\n",
            "+--------------------+-------------------+---------+---------------------+----------+-----------+--------------------+------+-------------------+-------------------+-------------------+-------------+-------------+\n",
            "only showing top 20 rows\n",
            "\n"
          ]
        }
      ]
    },
    {
      "cell_type": "code",
      "source": [
        "df_enhanced.printSchema()"
      ],
      "metadata": {
        "colab": {
          "base_uri": "https://localhost:8080/"
        },
        "id": "lF1uWI_TYPbr",
        "outputId": "11beb357-90ab-4730-ed2c-40c71b656d9e"
      },
      "execution_count": 15,
      "outputs": [
        {
          "output_type": "stream",
          "name": "stdout",
          "text": [
            "root\n",
            " |-- device_id: string (nullable = true)\n",
            " |-- order_creation_time: timestamp (nullable = true)\n",
            " |-- order_id: integer (nullable = true)\n",
            " |-- polling_creation_time: timestamp (nullable = true)\n",
            " |-- error_code: string (nullable = true)\n",
            " |-- status_code: integer (nullable = true)\n",
            " |-- status_creation_time: timestamp (nullable = true)\n",
            " |-- status: string (nullable = true)\n",
            " |-- oct_minus_3_min: timestamp (nullable = true)\n",
            " |-- oct_plus_3_min: timestamp (nullable = true)\n",
            " |-- oct_minus_1_hour: timestamp (nullable = true)\n",
            " |-- pct_preceding: timestamp (nullable = true)\n",
            " |-- pct_following: timestamp (nullable = true)\n",
            "\n"
          ]
        }
      ]
    },
    {
      "cell_type": "code",
      "source": [
        "df_enhanced.createOrReplaceTempView('ORDERS')"
      ],
      "metadata": {
        "id": "QX3Wbr6OStOe"
      },
      "execution_count": 9,
      "outputs": []
    },
    {
      "cell_type": "markdown",
      "source": [
        "## The total count of all polling events Three minutes before the order creation time\n",
        "\n"
      ],
      "metadata": {
        "id": "IYIXg1VccGwE"
      }
    },
    {
      "cell_type": "code",
      "source": [
        "query = '''SELECT order_id, count(1) as all_polling_events\n",
        "           FROM ORDERS\n",
        "           WHERE polling_creation_time IS NOT NULL\n",
        "           AND polling_creation_time <= (order_creation_time - INTERVAL 3 minutes) \n",
        "           GROUP BY order_id\n",
        "        '''\n",
        "sc.sql(query).show()"
      ],
      "metadata": {
        "colab": {
          "base_uri": "https://localhost:8080/"
        },
        "id": "G1uwV-5hVyJU",
        "outputId": "99ba128d-7c34-461d-d630-6882f4ffacf9"
      },
      "execution_count": 24,
      "outputs": [
        {
          "output_type": "stream",
          "name": "stdout",
          "text": [
            "+---------+------------------+\n",
            "| order_id|all_polling_events|\n",
            "+---------+------------------+\n",
            "|102638473|              1443|\n",
            "|102513750|               942|\n",
            "|102609981|              3105|\n",
            "|102603465|              3036|\n",
            "|102565868|               465|\n",
            "|102535727|              3161|\n",
            "|102651853|               550|\n",
            "|102602920|               310|\n",
            "|102594830|               634|\n",
            "|102551214|              3752|\n",
            "|102633195|              2669|\n",
            "|102516534|              2388|\n",
            "|102650480|              2707|\n",
            "|102540074|              2036|\n",
            "|102650281|              3781|\n",
            "|102648123|              2353|\n",
            "|102517631|              2804|\n",
            "|102571599|                41|\n",
            "|102644931|               730|\n",
            "|102541072|               413|\n",
            "+---------+------------------+\n",
            "only showing top 20 rows\n",
            "\n"
          ]
        }
      ]
    },
    {
      "cell_type": "markdown",
      "source": [
        "## The total count of all polling events Three minutes after the order creation time"
      ],
      "metadata": {
        "id": "zMHdqTolcXLN"
      }
    },
    {
      "cell_type": "code",
      "source": [
        "query = '''SELECT order_id, count(1) as all_polling_events\n",
        "           FROM ORDERS\n",
        "           WHERE polling_creation_time IS NOT NULL\n",
        "           AND polling_creation_time <= (order_creation_time + INTERVAL 3 minutes) \n",
        "           GROUP BY order_id\n",
        "        '''\n",
        "sc.sql(query).show()"
      ],
      "metadata": {
        "colab": {
          "base_uri": "https://localhost:8080/"
        },
        "id": "AoixEJvCoMDl",
        "outputId": "9a4ef936-8cfc-477d-8c9f-9c40076e2556"
      },
      "execution_count": 25,
      "outputs": [
        {
          "output_type": "stream",
          "name": "stdout",
          "text": [
            "+---------+------------------+\n",
            "| order_id|all_polling_events|\n",
            "+---------+------------------+\n",
            "|102638473|              1443|\n",
            "|102513750|               988|\n",
            "|102609981|              3128|\n",
            "|102603465|              3059|\n",
            "|102565868|               485|\n",
            "|102535727|              3172|\n",
            "|102651853|               550|\n",
            "|102602920|               311|\n",
            "|102594830|               646|\n",
            "|102551214|              3798|\n",
            "|102633195|              2693|\n",
            "|102516534|              2480|\n",
            "|102650480|              2730|\n",
            "|102540074|              2059|\n",
            "|102650281|              3799|\n",
            "|102648123|              2375|\n",
            "|102517631|              2827|\n",
            "|102571599|                41|\n",
            "|102644931|               734|\n",
            "|102541072|               423|\n",
            "+---------+------------------+\n",
            "only showing top 20 rows\n",
            "\n"
          ]
        }
      ]
    },
    {
      "cell_type": "markdown",
      "source": [
        "## The total count of all polling events One hour before the order creation time"
      ],
      "metadata": {
        "id": "HKACoMKpciEh"
      }
    },
    {
      "cell_type": "code",
      "source": [
        "query = '''SELECT order_id, count(1) as all_polling_events\n",
        "           FROM ORDERS\n",
        "           WHERE polling_creation_time IS NOT NULL\n",
        "           AND polling_creation_time <= (order_creation_time - INTERVAL 1 hour) \n",
        "           GROUP BY order_id\n",
        "        '''\n",
        "sc.sql(query).show()"
      ],
      "metadata": {
        "colab": {
          "base_uri": "https://localhost:8080/"
        },
        "id": "MDi0OKiVb9SI",
        "outputId": "e57ba02b-6f61-427a-818f-bc5f85ca3c65"
      },
      "execution_count": 26,
      "outputs": [
        {
          "output_type": "stream",
          "name": "stdout",
          "text": [
            "+---------+------------------+\n",
            "| order_id|all_polling_events|\n",
            "+---------+------------------+\n",
            "|102638473|              1443|\n",
            "|102513750|               500|\n",
            "|102609981|              2885|\n",
            "|102603465|              2814|\n",
            "|102565868|               449|\n",
            "|102535727|              2941|\n",
            "|102651853|               439|\n",
            "|102602920|               270|\n",
            "|102594830|               621|\n",
            "|102551214|              3314|\n",
            "|102633195|              2447|\n",
            "|102516534|              1516|\n",
            "|102650480|              2486|\n",
            "|102540074|              1816|\n",
            "|102648123|              2155|\n",
            "|102650281|              3370|\n",
            "|102517631|              2582|\n",
            "|102571599|                41|\n",
            "|102644931|               704|\n",
            "|102541072|               334|\n",
            "+---------+------------------+\n",
            "only showing top 20 rows\n",
            "\n"
          ]
        }
      ]
    },
    {
      "cell_type": "markdown",
      "source": [
        "## The count of each type of polling status_code Three minutes before the order creation time"
      ],
      "metadata": {
        "id": "0y9dhO2Dct9N"
      }
    },
    {
      "cell_type": "code",
      "source": [
        ""
      ],
      "metadata": {
        "id": "BHf1tIiP_Zoa"
      },
      "execution_count": null,
      "outputs": []
    },
    {
      "cell_type": "code",
      "source": [
        "query = '''SELECT status_code, count(status_code) as count_status_code\n",
        "           FROM ORDERS\n",
        "           WHERE status_code IS NOT NULL\n",
        "           AND polling_creation_time <= (order_creation_time - INTERVAL 3 minutes) \n",
        "           GROUP BY status_code\n",
        "       '''\n",
        "sc.sql(query).show()"
      ],
      "metadata": {
        "colab": {
          "base_uri": "https://localhost:8080/",
          "height": 1000
        },
        "id": "dTXj_glZo1wd",
        "outputId": "8d3bcc76-f5d9-4ed8-9071-e8e46023e5e0"
      },
      "execution_count": 22,
      "outputs": [
        {
          "output_type": "stream",
          "name": "stderr",
          "text": [
            "ERROR:py4j.java_gateway:An error occurred while trying to connect to the Java server (127.0.0.1:45255)\n",
            "Traceback (most recent call last):\n",
            "  File \"spark-2.4.4-bin-hadoop2.7/python/lib/py4j-0.10.7-src.zip/py4j/java_gateway.py\", line 929, in _get_connection\n",
            "    connection = self.deque.pop()\n",
            "IndexError: pop from an empty deque\n",
            "\n",
            "During handling of the above exception, another exception occurred:\n",
            "\n",
            "Traceback (most recent call last):\n",
            "  File \"spark-2.4.4-bin-hadoop2.7/python/lib/py4j-0.10.7-src.zip/py4j/java_gateway.py\", line 1067, in start\n",
            "    self.socket.connect((self.address, self.port))\n",
            "ConnectionRefusedError: [Errno 111] Connection refused\n",
            "ERROR:py4j.java_gateway:An error occurred while trying to connect to the Java server (127.0.0.1:45255)\n",
            "Traceback (most recent call last):\n",
            "  File \"spark-2.4.4-bin-hadoop2.7/python/lib/py4j-0.10.7-src.zip/py4j/java_gateway.py\", line 929, in _get_connection\n",
            "    connection = self.deque.pop()\n",
            "IndexError: pop from an empty deque\n",
            "\n",
            "During handling of the above exception, another exception occurred:\n",
            "\n",
            "Traceback (most recent call last):\n",
            "  File \"spark-2.4.4-bin-hadoop2.7/python/lib/py4j-0.10.7-src.zip/py4j/java_gateway.py\", line 1067, in start\n",
            "    self.socket.connect((self.address, self.port))\n",
            "ConnectionRefusedError: [Errno 111] Connection refused\n",
            "ERROR:py4j.java_gateway:An error occurred while trying to connect to the Java server (127.0.0.1:45255)\n",
            "Traceback (most recent call last):\n",
            "  File \"spark-2.4.4-bin-hadoop2.7/python/lib/py4j-0.10.7-src.zip/py4j/java_gateway.py\", line 929, in _get_connection\n",
            "    connection = self.deque.pop()\n",
            "IndexError: pop from an empty deque\n",
            "\n",
            "During handling of the above exception, another exception occurred:\n",
            "\n",
            "Traceback (most recent call last):\n",
            "  File \"spark-2.4.4-bin-hadoop2.7/python/lib/py4j-0.10.7-src.zip/py4j/java_gateway.py\", line 1067, in start\n",
            "    self.socket.connect((self.address, self.port))\n",
            "ConnectionRefusedError: [Errno 111] Connection refused\n",
            "ERROR:py4j.java_gateway:An error occurred while trying to connect to the Java server (127.0.0.1:45255)\n",
            "Traceback (most recent call last):\n",
            "  File \"spark-2.4.4-bin-hadoop2.7/python/lib/py4j-0.10.7-src.zip/py4j/java_gateway.py\", line 929, in _get_connection\n",
            "    connection = self.deque.pop()\n",
            "IndexError: pop from an empty deque\n",
            "\n",
            "During handling of the above exception, another exception occurred:\n",
            "\n",
            "Traceback (most recent call last):\n",
            "  File \"spark-2.4.4-bin-hadoop2.7/python/lib/py4j-0.10.7-src.zip/py4j/java_gateway.py\", line 1067, in start\n",
            "    self.socket.connect((self.address, self.port))\n",
            "ConnectionRefusedError: [Errno 111] Connection refused\n",
            "ERROR:py4j.java_gateway:An error occurred while trying to connect to the Java server (127.0.0.1:45255)\n",
            "Traceback (most recent call last):\n",
            "  File \"spark-2.4.4-bin-hadoop2.7/python/lib/py4j-0.10.7-src.zip/py4j/java_gateway.py\", line 929, in _get_connection\n",
            "    connection = self.deque.pop()\n",
            "IndexError: pop from an empty deque\n",
            "\n",
            "During handling of the above exception, another exception occurred:\n",
            "\n",
            "Traceback (most recent call last):\n",
            "  File \"spark-2.4.4-bin-hadoop2.7/python/lib/py4j-0.10.7-src.zip/py4j/java_gateway.py\", line 1067, in start\n",
            "    self.socket.connect((self.address, self.port))\n",
            "ConnectionRefusedError: [Errno 111] Connection refused\n",
            "ERROR:py4j.java_gateway:An error occurred while trying to connect to the Java server (127.0.0.1:45255)\n",
            "Traceback (most recent call last):\n",
            "  File \"spark-2.4.4-bin-hadoop2.7/python/lib/py4j-0.10.7-src.zip/py4j/java_gateway.py\", line 929, in _get_connection\n",
            "    connection = self.deque.pop()\n",
            "IndexError: pop from an empty deque\n",
            "\n",
            "During handling of the above exception, another exception occurred:\n",
            "\n",
            "Traceback (most recent call last):\n",
            "  File \"spark-2.4.4-bin-hadoop2.7/python/lib/py4j-0.10.7-src.zip/py4j/java_gateway.py\", line 1067, in start\n",
            "    self.socket.connect((self.address, self.port))\n",
            "ConnectionRefusedError: [Errno 111] Connection refused\n",
            "ERROR:py4j.java_gateway:An error occurred while trying to connect to the Java server (127.0.0.1:45255)\n",
            "Traceback (most recent call last):\n",
            "  File \"spark-2.4.4-bin-hadoop2.7/python/lib/py4j-0.10.7-src.zip/py4j/java_gateway.py\", line 929, in _get_connection\n",
            "    connection = self.deque.pop()\n",
            "IndexError: pop from an empty deque\n",
            "\n",
            "During handling of the above exception, another exception occurred:\n",
            "\n",
            "Traceback (most recent call last):\n",
            "  File \"spark-2.4.4-bin-hadoop2.7/python/lib/py4j-0.10.7-src.zip/py4j/java_gateway.py\", line 1067, in start\n",
            "    self.socket.connect((self.address, self.port))\n",
            "ConnectionRefusedError: [Errno 111] Connection refused\n",
            "ERROR:py4j.java_gateway:An error occurred while trying to connect to the Java server (127.0.0.1:45255)\n",
            "Traceback (most recent call last):\n",
            "  File \"spark-2.4.4-bin-hadoop2.7/python/lib/py4j-0.10.7-src.zip/py4j/java_gateway.py\", line 929, in _get_connection\n",
            "    connection = self.deque.pop()\n",
            "IndexError: pop from an empty deque\n",
            "\n",
            "During handling of the above exception, another exception occurred:\n",
            "\n",
            "Traceback (most recent call last):\n",
            "  File \"spark-2.4.4-bin-hadoop2.7/python/lib/py4j-0.10.7-src.zip/py4j/java_gateway.py\", line 1067, in start\n",
            "    self.socket.connect((self.address, self.port))\n",
            "ConnectionRefusedError: [Errno 111] Connection refused\n",
            "ERROR:py4j.java_gateway:An error occurred while trying to connect to the Java server (127.0.0.1:45255)\n",
            "Traceback (most recent call last):\n",
            "  File \"spark-2.4.4-bin-hadoop2.7/python/lib/py4j-0.10.7-src.zip/py4j/java_gateway.py\", line 929, in _get_connection\n",
            "    connection = self.deque.pop()\n",
            "IndexError: pop from an empty deque\n",
            "\n",
            "During handling of the above exception, another exception occurred:\n",
            "\n",
            "Traceback (most recent call last):\n",
            "  File \"spark-2.4.4-bin-hadoop2.7/python/lib/py4j-0.10.7-src.zip/py4j/java_gateway.py\", line 1067, in start\n",
            "    self.socket.connect((self.address, self.port))\n",
            "ConnectionRefusedError: [Errno 111] Connection refused\n",
            "ERROR:py4j.java_gateway:An error occurred while trying to connect to the Java server (127.0.0.1:45255)\n",
            "Traceback (most recent call last):\n",
            "  File \"spark-2.4.4-bin-hadoop2.7/python/lib/py4j-0.10.7-src.zip/py4j/java_gateway.py\", line 929, in _get_connection\n",
            "    connection = self.deque.pop()\n",
            "IndexError: pop from an empty deque\n",
            "\n",
            "During handling of the above exception, another exception occurred:\n",
            "\n",
            "Traceback (most recent call last):\n",
            "  File \"spark-2.4.4-bin-hadoop2.7/python/lib/py4j-0.10.7-src.zip/py4j/java_gateway.py\", line 1067, in start\n",
            "    self.socket.connect((self.address, self.port))\n",
            "ConnectionRefusedError: [Errno 111] Connection refused\n",
            "ERROR:py4j.java_gateway:An error occurred while trying to connect to the Java server (127.0.0.1:45255)\n",
            "Traceback (most recent call last):\n",
            "  File \"spark-2.4.4-bin-hadoop2.7/python/lib/py4j-0.10.7-src.zip/py4j/java_gateway.py\", line 929, in _get_connection\n",
            "    connection = self.deque.pop()\n",
            "IndexError: pop from an empty deque\n",
            "\n",
            "During handling of the above exception, another exception occurred:\n",
            "\n",
            "Traceback (most recent call last):\n",
            "  File \"spark-2.4.4-bin-hadoop2.7/python/lib/py4j-0.10.7-src.zip/py4j/java_gateway.py\", line 1067, in start\n",
            "    self.socket.connect((self.address, self.port))\n",
            "ConnectionRefusedError: [Errno 111] Connection refused\n",
            "ERROR:py4j.java_gateway:An error occurred while trying to connect to the Java server (127.0.0.1:45255)\n",
            "Traceback (most recent call last):\n",
            "  File \"spark-2.4.4-bin-hadoop2.7/python/lib/py4j-0.10.7-src.zip/py4j/java_gateway.py\", line 929, in _get_connection\n",
            "    connection = self.deque.pop()\n",
            "IndexError: pop from an empty deque\n",
            "\n",
            "During handling of the above exception, another exception occurred:\n",
            "\n",
            "Traceback (most recent call last):\n",
            "  File \"spark-2.4.4-bin-hadoop2.7/python/lib/py4j-0.10.7-src.zip/py4j/java_gateway.py\", line 1067, in start\n",
            "    self.socket.connect((self.address, self.port))\n",
            "ConnectionRefusedError: [Errno 111] Connection refused\n",
            "ERROR:py4j.java_gateway:An error occurred while trying to connect to the Java server (127.0.0.1:45255)\n",
            "Traceback (most recent call last):\n",
            "  File \"spark-2.4.4-bin-hadoop2.7/python/lib/py4j-0.10.7-src.zip/py4j/java_gateway.py\", line 929, in _get_connection\n",
            "    connection = self.deque.pop()\n",
            "IndexError: pop from an empty deque\n",
            "\n",
            "During handling of the above exception, another exception occurred:\n",
            "\n",
            "Traceback (most recent call last):\n",
            "  File \"spark-2.4.4-bin-hadoop2.7/python/lib/py4j-0.10.7-src.zip/py4j/java_gateway.py\", line 1067, in start\n",
            "    self.socket.connect((self.address, self.port))\n",
            "ConnectionRefusedError: [Errno 111] Connection refused\n",
            "ERROR:py4j.java_gateway:An error occurred while trying to connect to the Java server (127.0.0.1:45255)\n",
            "Traceback (most recent call last):\n",
            "  File \"spark-2.4.4-bin-hadoop2.7/python/lib/py4j-0.10.7-src.zip/py4j/java_gateway.py\", line 929, in _get_connection\n",
            "    connection = self.deque.pop()\n",
            "IndexError: pop from an empty deque\n",
            "\n",
            "During handling of the above exception, another exception occurred:\n",
            "\n",
            "Traceback (most recent call last):\n",
            "  File \"spark-2.4.4-bin-hadoop2.7/python/lib/py4j-0.10.7-src.zip/py4j/java_gateway.py\", line 1067, in start\n",
            "    self.socket.connect((self.address, self.port))\n",
            "ConnectionRefusedError: [Errno 111] Connection refused\n",
            "ERROR:py4j.java_gateway:An error occurred while trying to connect to the Java server (127.0.0.1:45255)\n",
            "Traceback (most recent call last):\n",
            "  File \"spark-2.4.4-bin-hadoop2.7/python/lib/py4j-0.10.7-src.zip/py4j/java_gateway.py\", line 929, in _get_connection\n",
            "    connection = self.deque.pop()\n",
            "IndexError: pop from an empty deque\n",
            "\n",
            "During handling of the above exception, another exception occurred:\n",
            "\n",
            "Traceback (most recent call last):\n",
            "  File \"spark-2.4.4-bin-hadoop2.7/python/lib/py4j-0.10.7-src.zip/py4j/java_gateway.py\", line 1067, in start\n",
            "    self.socket.connect((self.address, self.port))\n",
            "ConnectionRefusedError: [Errno 111] Connection refused\n",
            "ERROR:py4j.java_gateway:An error occurred while trying to connect to the Java server (127.0.0.1:45255)\n",
            "Traceback (most recent call last):\n",
            "  File \"spark-2.4.4-bin-hadoop2.7/python/lib/py4j-0.10.7-src.zip/py4j/java_gateway.py\", line 929, in _get_connection\n",
            "    connection = self.deque.pop()\n",
            "IndexError: pop from an empty deque\n",
            "\n",
            "During handling of the above exception, another exception occurred:\n",
            "\n",
            "Traceback (most recent call last):\n",
            "  File \"spark-2.4.4-bin-hadoop2.7/python/lib/py4j-0.10.7-src.zip/py4j/java_gateway.py\", line 1067, in start\n",
            "    self.socket.connect((self.address, self.port))\n",
            "ConnectionRefusedError: [Errno 111] Connection refused\n",
            "ERROR:py4j.java_gateway:An error occurred while trying to connect to the Java server (127.0.0.1:45255)\n",
            "Traceback (most recent call last):\n",
            "  File \"spark-2.4.4-bin-hadoop2.7/python/lib/py4j-0.10.7-src.zip/py4j/java_gateway.py\", line 929, in _get_connection\n",
            "    connection = self.deque.pop()\n",
            "IndexError: pop from an empty deque\n",
            "\n",
            "During handling of the above exception, another exception occurred:\n",
            "\n",
            "Traceback (most recent call last):\n",
            "  File \"spark-2.4.4-bin-hadoop2.7/python/lib/py4j-0.10.7-src.zip/py4j/java_gateway.py\", line 1067, in start\n",
            "    self.socket.connect((self.address, self.port))\n",
            "ConnectionRefusedError: [Errno 111] Connection refused\n",
            "ERROR:py4j.java_gateway:An error occurred while trying to connect to the Java server (127.0.0.1:45255)\n",
            "Traceback (most recent call last):\n",
            "  File \"spark-2.4.4-bin-hadoop2.7/python/lib/py4j-0.10.7-src.zip/py4j/java_gateway.py\", line 929, in _get_connection\n",
            "    connection = self.deque.pop()\n",
            "IndexError: pop from an empty deque\n",
            "\n",
            "During handling of the above exception, another exception occurred:\n",
            "\n",
            "Traceback (most recent call last):\n",
            "  File \"spark-2.4.4-bin-hadoop2.7/python/lib/py4j-0.10.7-src.zip/py4j/java_gateway.py\", line 1067, in start\n",
            "    self.socket.connect((self.address, self.port))\n",
            "ConnectionRefusedError: [Errno 111] Connection refused\n",
            "ERROR:py4j.java_gateway:An error occurred while trying to connect to the Java server (127.0.0.1:45255)\n",
            "Traceback (most recent call last):\n",
            "  File \"spark-2.4.4-bin-hadoop2.7/python/lib/py4j-0.10.7-src.zip/py4j/java_gateway.py\", line 929, in _get_connection\n",
            "    connection = self.deque.pop()\n",
            "IndexError: pop from an empty deque\n",
            "\n",
            "During handling of the above exception, another exception occurred:\n",
            "\n",
            "Traceback (most recent call last):\n",
            "  File \"spark-2.4.4-bin-hadoop2.7/python/lib/py4j-0.10.7-src.zip/py4j/java_gateway.py\", line 1067, in start\n",
            "    self.socket.connect((self.address, self.port))\n",
            "ConnectionRefusedError: [Errno 111] Connection refused\n",
            "ERROR:py4j.java_gateway:An error occurred while trying to connect to the Java server (127.0.0.1:45255)\n",
            "Traceback (most recent call last):\n",
            "  File \"spark-2.4.4-bin-hadoop2.7/python/lib/py4j-0.10.7-src.zip/py4j/java_gateway.py\", line 929, in _get_connection\n",
            "    connection = self.deque.pop()\n",
            "IndexError: pop from an empty deque\n",
            "\n",
            "During handling of the above exception, another exception occurred:\n",
            "\n",
            "Traceback (most recent call last):\n",
            "  File \"spark-2.4.4-bin-hadoop2.7/python/lib/py4j-0.10.7-src.zip/py4j/java_gateway.py\", line 1067, in start\n",
            "    self.socket.connect((self.address, self.port))\n",
            "ConnectionRefusedError: [Errno 111] Connection refused\n",
            "ERROR:py4j.java_gateway:An error occurred while trying to connect to the Java server (127.0.0.1:45255)\n",
            "Traceback (most recent call last):\n",
            "  File \"spark-2.4.4-bin-hadoop2.7/python/lib/py4j-0.10.7-src.zip/py4j/java_gateway.py\", line 929, in _get_connection\n",
            "    connection = self.deque.pop()\n",
            "IndexError: pop from an empty deque\n",
            "\n",
            "During handling of the above exception, another exception occurred:\n",
            "\n",
            "Traceback (most recent call last):\n",
            "  File \"spark-2.4.4-bin-hadoop2.7/python/lib/py4j-0.10.7-src.zip/py4j/java_gateway.py\", line 1067, in start\n",
            "    self.socket.connect((self.address, self.port))\n",
            "ConnectionRefusedError: [Errno 111] Connection refused\n",
            "ERROR:py4j.java_gateway:An error occurred while trying to connect to the Java server (127.0.0.1:45255)\n",
            "Traceback (most recent call last):\n",
            "  File \"spark-2.4.4-bin-hadoop2.7/python/lib/py4j-0.10.7-src.zip/py4j/java_gateway.py\", line 929, in _get_connection\n",
            "    connection = self.deque.pop()\n",
            "IndexError: pop from an empty deque\n",
            "\n",
            "During handling of the above exception, another exception occurred:\n",
            "\n",
            "Traceback (most recent call last):\n",
            "  File \"spark-2.4.4-bin-hadoop2.7/python/lib/py4j-0.10.7-src.zip/py4j/java_gateway.py\", line 1067, in start\n",
            "    self.socket.connect((self.address, self.port))\n",
            "ConnectionRefusedError: [Errno 111] Connection refused\n",
            "ERROR:py4j.java_gateway:An error occurred while trying to connect to the Java server (127.0.0.1:45255)\n",
            "Traceback (most recent call last):\n",
            "  File \"spark-2.4.4-bin-hadoop2.7/python/lib/py4j-0.10.7-src.zip/py4j/java_gateway.py\", line 929, in _get_connection\n",
            "    connection = self.deque.pop()\n",
            "IndexError: pop from an empty deque\n",
            "\n",
            "During handling of the above exception, another exception occurred:\n",
            "\n",
            "Traceback (most recent call last):\n",
            "  File \"spark-2.4.4-bin-hadoop2.7/python/lib/py4j-0.10.7-src.zip/py4j/java_gateway.py\", line 1067, in start\n",
            "    self.socket.connect((self.address, self.port))\n",
            "ConnectionRefusedError: [Errno 111] Connection refused\n",
            "ERROR:py4j.java_gateway:An error occurred while trying to connect to the Java server (127.0.0.1:45255)\n",
            "Traceback (most recent call last):\n",
            "  File \"spark-2.4.4-bin-hadoop2.7/python/lib/py4j-0.10.7-src.zip/py4j/java_gateway.py\", line 929, in _get_connection\n",
            "    connection = self.deque.pop()\n",
            "IndexError: pop from an empty deque\n",
            "\n",
            "During handling of the above exception, another exception occurred:\n",
            "\n",
            "Traceback (most recent call last):\n",
            "  File \"spark-2.4.4-bin-hadoop2.7/python/lib/py4j-0.10.7-src.zip/py4j/java_gateway.py\", line 1067, in start\n",
            "    self.socket.connect((self.address, self.port))\n",
            "ConnectionRefusedError: [Errno 111] Connection refused\n",
            "ERROR:py4j.java_gateway:An error occurred while trying to connect to the Java server (127.0.0.1:45255)\n",
            "Traceback (most recent call last):\n",
            "  File \"spark-2.4.4-bin-hadoop2.7/python/lib/py4j-0.10.7-src.zip/py4j/java_gateway.py\", line 929, in _get_connection\n",
            "    connection = self.deque.pop()\n",
            "IndexError: pop from an empty deque\n",
            "\n",
            "During handling of the above exception, another exception occurred:\n",
            "\n",
            "Traceback (most recent call last):\n",
            "  File \"spark-2.4.4-bin-hadoop2.7/python/lib/py4j-0.10.7-src.zip/py4j/java_gateway.py\", line 1067, in start\n",
            "    self.socket.connect((self.address, self.port))\n",
            "ConnectionRefusedError: [Errno 111] Connection refused\n",
            "ERROR:py4j.java_gateway:An error occurred while trying to connect to the Java server (127.0.0.1:45255)\n",
            "Traceback (most recent call last):\n",
            "  File \"spark-2.4.4-bin-hadoop2.7/python/lib/py4j-0.10.7-src.zip/py4j/java_gateway.py\", line 929, in _get_connection\n",
            "    connection = self.deque.pop()\n",
            "IndexError: pop from an empty deque\n",
            "\n",
            "During handling of the above exception, another exception occurred:\n",
            "\n",
            "Traceback (most recent call last):\n",
            "  File \"spark-2.4.4-bin-hadoop2.7/python/lib/py4j-0.10.7-src.zip/py4j/java_gateway.py\", line 1067, in start\n",
            "    self.socket.connect((self.address, self.port))\n",
            "ConnectionRefusedError: [Errno 111] Connection refused\n",
            "ERROR:py4j.java_gateway:An error occurred while trying to connect to the Java server (127.0.0.1:45255)\n",
            "Traceback (most recent call last):\n",
            "  File \"spark-2.4.4-bin-hadoop2.7/python/lib/py4j-0.10.7-src.zip/py4j/java_gateway.py\", line 929, in _get_connection\n",
            "    connection = self.deque.pop()\n",
            "IndexError: pop from an empty deque\n",
            "\n",
            "During handling of the above exception, another exception occurred:\n",
            "\n",
            "Traceback (most recent call last):\n",
            "  File \"spark-2.4.4-bin-hadoop2.7/python/lib/py4j-0.10.7-src.zip/py4j/java_gateway.py\", line 1067, in start\n",
            "    self.socket.connect((self.address, self.port))\n",
            "ConnectionRefusedError: [Errno 111] Connection refused\n",
            "ERROR:py4j.java_gateway:An error occurred while trying to connect to the Java server (127.0.0.1:45255)\n",
            "Traceback (most recent call last):\n",
            "  File \"spark-2.4.4-bin-hadoop2.7/python/lib/py4j-0.10.7-src.zip/py4j/java_gateway.py\", line 929, in _get_connection\n",
            "    connection = self.deque.pop()\n",
            "IndexError: pop from an empty deque\n",
            "\n",
            "During handling of the above exception, another exception occurred:\n",
            "\n",
            "Traceback (most recent call last):\n",
            "  File \"spark-2.4.4-bin-hadoop2.7/python/lib/py4j-0.10.7-src.zip/py4j/java_gateway.py\", line 1067, in start\n",
            "    self.socket.connect((self.address, self.port))\n",
            "ConnectionRefusedError: [Errno 111] Connection refused\n",
            "ERROR:py4j.java_gateway:An error occurred while trying to connect to the Java server (127.0.0.1:45255)\n",
            "Traceback (most recent call last):\n",
            "  File \"spark-2.4.4-bin-hadoop2.7/python/lib/py4j-0.10.7-src.zip/py4j/java_gateway.py\", line 929, in _get_connection\n",
            "    connection = self.deque.pop()\n",
            "IndexError: pop from an empty deque\n",
            "\n",
            "During handling of the above exception, another exception occurred:\n",
            "\n",
            "Traceback (most recent call last):\n",
            "  File \"spark-2.4.4-bin-hadoop2.7/python/lib/py4j-0.10.7-src.zip/py4j/java_gateway.py\", line 1067, in start\n",
            "    self.socket.connect((self.address, self.port))\n",
            "ConnectionRefusedError: [Errno 111] Connection refused\n",
            "ERROR:py4j.java_gateway:An error occurred while trying to connect to the Java server (127.0.0.1:45255)\n",
            "Traceback (most recent call last):\n",
            "  File \"spark-2.4.4-bin-hadoop2.7/python/lib/py4j-0.10.7-src.zip/py4j/java_gateway.py\", line 929, in _get_connection\n",
            "    connection = self.deque.pop()\n",
            "IndexError: pop from an empty deque\n",
            "\n",
            "During handling of the above exception, another exception occurred:\n",
            "\n",
            "Traceback (most recent call last):\n",
            "  File \"spark-2.4.4-bin-hadoop2.7/python/lib/py4j-0.10.7-src.zip/py4j/java_gateway.py\", line 1067, in start\n",
            "    self.socket.connect((self.address, self.port))\n",
            "ConnectionRefusedError: [Errno 111] Connection refused\n"
          ]
        },
        {
          "output_type": "error",
          "ename": "Py4JNetworkError",
          "evalue": "ignored",
          "traceback": [
            "\u001b[0;31m---------------------------------------------------------------------------\u001b[0m",
            "\u001b[0;31mIndexError\u001b[0m                                Traceback (most recent call last)",
            "\u001b[0;32mspark-2.4.4-bin-hadoop2.7/python/lib/py4j-0.10.7-src.zip/py4j/java_gateway.py\u001b[0m in \u001b[0;36m_get_connection\u001b[0;34m(self)\u001b[0m\n\u001b[1;32m    928\u001b[0m         \u001b[0;32mtry\u001b[0m\u001b[0;34m:\u001b[0m\u001b[0;34m\u001b[0m\u001b[0;34m\u001b[0m\u001b[0m\n\u001b[0;32m--> 929\u001b[0;31m             \u001b[0mconnection\u001b[0m \u001b[0;34m=\u001b[0m \u001b[0mself\u001b[0m\u001b[0;34m.\u001b[0m\u001b[0mdeque\u001b[0m\u001b[0;34m.\u001b[0m\u001b[0mpop\u001b[0m\u001b[0;34m(\u001b[0m\u001b[0;34m)\u001b[0m\u001b[0;34m\u001b[0m\u001b[0;34m\u001b[0m\u001b[0m\n\u001b[0m\u001b[1;32m    930\u001b[0m         \u001b[0;32mexcept\u001b[0m \u001b[0mIndexError\u001b[0m\u001b[0;34m:\u001b[0m\u001b[0;34m\u001b[0m\u001b[0;34m\u001b[0m\u001b[0m\n",
            "\u001b[0;31mIndexError\u001b[0m: pop from an empty deque",
            "\nDuring handling of the above exception, another exception occurred:\n",
            "\u001b[0;31mConnectionRefusedError\u001b[0m                    Traceback (most recent call last)",
            "\u001b[0;32mspark-2.4.4-bin-hadoop2.7/python/lib/py4j-0.10.7-src.zip/py4j/java_gateway.py\u001b[0m in \u001b[0;36mstart\u001b[0;34m(self)\u001b[0m\n\u001b[1;32m   1066\u001b[0m         \u001b[0;32mtry\u001b[0m\u001b[0;34m:\u001b[0m\u001b[0;34m\u001b[0m\u001b[0;34m\u001b[0m\u001b[0m\n\u001b[0;32m-> 1067\u001b[0;31m             \u001b[0mself\u001b[0m\u001b[0;34m.\u001b[0m\u001b[0msocket\u001b[0m\u001b[0;34m.\u001b[0m\u001b[0mconnect\u001b[0m\u001b[0;34m(\u001b[0m\u001b[0;34m(\u001b[0m\u001b[0mself\u001b[0m\u001b[0;34m.\u001b[0m\u001b[0maddress\u001b[0m\u001b[0;34m,\u001b[0m \u001b[0mself\u001b[0m\u001b[0;34m.\u001b[0m\u001b[0mport\u001b[0m\u001b[0;34m)\u001b[0m\u001b[0;34m)\u001b[0m\u001b[0;34m\u001b[0m\u001b[0;34m\u001b[0m\u001b[0m\n\u001b[0m\u001b[1;32m   1068\u001b[0m             \u001b[0mself\u001b[0m\u001b[0;34m.\u001b[0m\u001b[0mstream\u001b[0m \u001b[0;34m=\u001b[0m \u001b[0mself\u001b[0m\u001b[0;34m.\u001b[0m\u001b[0msocket\u001b[0m\u001b[0;34m.\u001b[0m\u001b[0mmakefile\u001b[0m\u001b[0;34m(\u001b[0m\u001b[0;34m\"rb\"\u001b[0m\u001b[0;34m)\u001b[0m\u001b[0;34m\u001b[0m\u001b[0;34m\u001b[0m\u001b[0m\n",
            "\u001b[0;31mConnectionRefusedError\u001b[0m: [Errno 111] Connection refused",
            "\nDuring handling of the above exception, another exception occurred:\n",
            "\u001b[0;31mPy4JNetworkError\u001b[0m                          Traceback (most recent call last)",
            "\u001b[0;32m<ipython-input-22-9180c4113baf>\u001b[0m in \u001b[0;36m<module>\u001b[0;34m()\u001b[0m\n\u001b[1;32m      5\u001b[0m            \u001b[0mGROUP\u001b[0m \u001b[0mBY\u001b[0m \u001b[0mstatus_code\u001b[0m\u001b[0;34m\u001b[0m\u001b[0;34m\u001b[0m\u001b[0m\n\u001b[1;32m      6\u001b[0m        '''\n\u001b[0;32m----> 7\u001b[0;31m \u001b[0msc\u001b[0m\u001b[0;34m.\u001b[0m\u001b[0msql\u001b[0m\u001b[0;34m(\u001b[0m\u001b[0mquery\u001b[0m\u001b[0;34m)\u001b[0m\u001b[0;34m.\u001b[0m\u001b[0mshow\u001b[0m\u001b[0;34m(\u001b[0m\u001b[0;34m)\u001b[0m\u001b[0;34m\u001b[0m\u001b[0;34m\u001b[0m\u001b[0m\n\u001b[0m",
            "\u001b[0;32m/content/spark-2.4.4-bin-hadoop2.7/python/pyspark/sql/session.py\u001b[0m in \u001b[0;36msql\u001b[0;34m(self, sqlQuery)\u001b[0m\n\u001b[1;32m    765\u001b[0m         \u001b[0;34m[\u001b[0m\u001b[0mRow\u001b[0m\u001b[0;34m(\u001b[0m\u001b[0mf1\u001b[0m\u001b[0;34m=\u001b[0m\u001b[0;36m1\u001b[0m\u001b[0;34m,\u001b[0m \u001b[0mf2\u001b[0m\u001b[0;34m=\u001b[0m\u001b[0;34mu'row1'\u001b[0m\u001b[0;34m)\u001b[0m\u001b[0;34m,\u001b[0m \u001b[0mRow\u001b[0m\u001b[0;34m(\u001b[0m\u001b[0mf1\u001b[0m\u001b[0;34m=\u001b[0m\u001b[0;36m2\u001b[0m\u001b[0;34m,\u001b[0m \u001b[0mf2\u001b[0m\u001b[0;34m=\u001b[0m\u001b[0;34mu'row2'\u001b[0m\u001b[0;34m)\u001b[0m\u001b[0;34m,\u001b[0m \u001b[0mRow\u001b[0m\u001b[0;34m(\u001b[0m\u001b[0mf1\u001b[0m\u001b[0;34m=\u001b[0m\u001b[0;36m3\u001b[0m\u001b[0;34m,\u001b[0m \u001b[0mf2\u001b[0m\u001b[0;34m=\u001b[0m\u001b[0;34mu'row3'\u001b[0m\u001b[0;34m)\u001b[0m\u001b[0;34m]\u001b[0m\u001b[0;34m\u001b[0m\u001b[0;34m\u001b[0m\u001b[0m\n\u001b[1;32m    766\u001b[0m         \"\"\"\n\u001b[0;32m--> 767\u001b[0;31m         \u001b[0;32mreturn\u001b[0m \u001b[0mDataFrame\u001b[0m\u001b[0;34m(\u001b[0m\u001b[0mself\u001b[0m\u001b[0;34m.\u001b[0m\u001b[0m_jsparkSession\u001b[0m\u001b[0;34m.\u001b[0m\u001b[0msql\u001b[0m\u001b[0;34m(\u001b[0m\u001b[0msqlQuery\u001b[0m\u001b[0;34m)\u001b[0m\u001b[0;34m,\u001b[0m \u001b[0mself\u001b[0m\u001b[0;34m.\u001b[0m\u001b[0m_wrapped\u001b[0m\u001b[0;34m)\u001b[0m\u001b[0;34m\u001b[0m\u001b[0;34m\u001b[0m\u001b[0m\n\u001b[0m\u001b[1;32m    768\u001b[0m \u001b[0;34m\u001b[0m\u001b[0m\n\u001b[1;32m    769\u001b[0m     \u001b[0;34m@\u001b[0m\u001b[0msince\u001b[0m\u001b[0;34m(\u001b[0m\u001b[0;36m2.0\u001b[0m\u001b[0;34m)\u001b[0m\u001b[0;34m\u001b[0m\u001b[0;34m\u001b[0m\u001b[0m\n",
            "\u001b[0;32mspark-2.4.4-bin-hadoop2.7/python/lib/py4j-0.10.7-src.zip/py4j/java_gateway.py\u001b[0m in \u001b[0;36m__call__\u001b[0;34m(self, *args)\u001b[0m\n\u001b[1;32m   1253\u001b[0m             \u001b[0mproto\u001b[0m\u001b[0;34m.\u001b[0m\u001b[0mEND_COMMAND_PART\u001b[0m\u001b[0;34m\u001b[0m\u001b[0;34m\u001b[0m\u001b[0m\n\u001b[1;32m   1254\u001b[0m \u001b[0;34m\u001b[0m\u001b[0m\n\u001b[0;32m-> 1255\u001b[0;31m         \u001b[0manswer\u001b[0m \u001b[0;34m=\u001b[0m \u001b[0mself\u001b[0m\u001b[0;34m.\u001b[0m\u001b[0mgateway_client\u001b[0m\u001b[0;34m.\u001b[0m\u001b[0msend_command\u001b[0m\u001b[0;34m(\u001b[0m\u001b[0mcommand\u001b[0m\u001b[0;34m)\u001b[0m\u001b[0;34m\u001b[0m\u001b[0;34m\u001b[0m\u001b[0m\n\u001b[0m\u001b[1;32m   1256\u001b[0m         return_value = get_return_value(\n\u001b[1;32m   1257\u001b[0m             answer, self.gateway_client, self.target_id, self.name)\n",
            "\u001b[0;32mspark-2.4.4-bin-hadoop2.7/python/lib/py4j-0.10.7-src.zip/py4j/java_gateway.py\u001b[0m in \u001b[0;36msend_command\u001b[0;34m(self, command, retry, binary)\u001b[0m\n\u001b[1;32m    981\u001b[0m          \u001b[0;32mif\u001b[0m\u001b[0;31m \u001b[0m\u001b[0;31m`\u001b[0m\u001b[0mbinary\u001b[0m\u001b[0;31m`\u001b[0m \u001b[0;32mis\u001b[0m\u001b[0;31m \u001b[0m\u001b[0;31m`\u001b[0m\u001b[0;32mTrue\u001b[0m\u001b[0;31m`\u001b[0m\u001b[0;34m.\u001b[0m\u001b[0;34m\u001b[0m\u001b[0;34m\u001b[0m\u001b[0m\n\u001b[1;32m    982\u001b[0m         \"\"\"\n\u001b[0;32m--> 983\u001b[0;31m         \u001b[0mconnection\u001b[0m \u001b[0;34m=\u001b[0m \u001b[0mself\u001b[0m\u001b[0;34m.\u001b[0m\u001b[0m_get_connection\u001b[0m\u001b[0;34m(\u001b[0m\u001b[0;34m)\u001b[0m\u001b[0;34m\u001b[0m\u001b[0;34m\u001b[0m\u001b[0m\n\u001b[0m\u001b[1;32m    984\u001b[0m         \u001b[0;32mtry\u001b[0m\u001b[0;34m:\u001b[0m\u001b[0;34m\u001b[0m\u001b[0;34m\u001b[0m\u001b[0m\n\u001b[1;32m    985\u001b[0m             \u001b[0mresponse\u001b[0m \u001b[0;34m=\u001b[0m \u001b[0mconnection\u001b[0m\u001b[0;34m.\u001b[0m\u001b[0msend_command\u001b[0m\u001b[0;34m(\u001b[0m\u001b[0mcommand\u001b[0m\u001b[0;34m)\u001b[0m\u001b[0;34m\u001b[0m\u001b[0;34m\u001b[0m\u001b[0m\n",
            "\u001b[0;32mspark-2.4.4-bin-hadoop2.7/python/lib/py4j-0.10.7-src.zip/py4j/java_gateway.py\u001b[0m in \u001b[0;36m_get_connection\u001b[0;34m(self)\u001b[0m\n\u001b[1;32m    929\u001b[0m             \u001b[0mconnection\u001b[0m \u001b[0;34m=\u001b[0m \u001b[0mself\u001b[0m\u001b[0;34m.\u001b[0m\u001b[0mdeque\u001b[0m\u001b[0;34m.\u001b[0m\u001b[0mpop\u001b[0m\u001b[0;34m(\u001b[0m\u001b[0;34m)\u001b[0m\u001b[0;34m\u001b[0m\u001b[0;34m\u001b[0m\u001b[0m\n\u001b[1;32m    930\u001b[0m         \u001b[0;32mexcept\u001b[0m \u001b[0mIndexError\u001b[0m\u001b[0;34m:\u001b[0m\u001b[0;34m\u001b[0m\u001b[0;34m\u001b[0m\u001b[0m\n\u001b[0;32m--> 931\u001b[0;31m             \u001b[0mconnection\u001b[0m \u001b[0;34m=\u001b[0m \u001b[0mself\u001b[0m\u001b[0;34m.\u001b[0m\u001b[0m_create_connection\u001b[0m\u001b[0;34m(\u001b[0m\u001b[0;34m)\u001b[0m\u001b[0;34m\u001b[0m\u001b[0;34m\u001b[0m\u001b[0m\n\u001b[0m\u001b[1;32m    932\u001b[0m         \u001b[0;32mreturn\u001b[0m \u001b[0mconnection\u001b[0m\u001b[0;34m\u001b[0m\u001b[0;34m\u001b[0m\u001b[0m\n\u001b[1;32m    933\u001b[0m \u001b[0;34m\u001b[0m\u001b[0m\n",
            "\u001b[0;32mspark-2.4.4-bin-hadoop2.7/python/lib/py4j-0.10.7-src.zip/py4j/java_gateway.py\u001b[0m in \u001b[0;36m_create_connection\u001b[0;34m(self)\u001b[0m\n\u001b[1;32m    935\u001b[0m         connection = GatewayConnection(\n\u001b[1;32m    936\u001b[0m             self.gateway_parameters, self.gateway_property)\n\u001b[0;32m--> 937\u001b[0;31m         \u001b[0mconnection\u001b[0m\u001b[0;34m.\u001b[0m\u001b[0mstart\u001b[0m\u001b[0;34m(\u001b[0m\u001b[0;34m)\u001b[0m\u001b[0;34m\u001b[0m\u001b[0;34m\u001b[0m\u001b[0m\n\u001b[0m\u001b[1;32m    938\u001b[0m         \u001b[0;32mreturn\u001b[0m \u001b[0mconnection\u001b[0m\u001b[0;34m\u001b[0m\u001b[0;34m\u001b[0m\u001b[0m\n\u001b[1;32m    939\u001b[0m \u001b[0;34m\u001b[0m\u001b[0m\n",
            "\u001b[0;32mspark-2.4.4-bin-hadoop2.7/python/lib/py4j-0.10.7-src.zip/py4j/java_gateway.py\u001b[0m in \u001b[0;36mstart\u001b[0;34m(self)\u001b[0m\n\u001b[1;32m   1077\u001b[0m                 \u001b[0;34m\"server ({0}:{1})\"\u001b[0m\u001b[0;34m.\u001b[0m\u001b[0mformat\u001b[0m\u001b[0;34m(\u001b[0m\u001b[0mself\u001b[0m\u001b[0;34m.\u001b[0m\u001b[0maddress\u001b[0m\u001b[0;34m,\u001b[0m \u001b[0mself\u001b[0m\u001b[0;34m.\u001b[0m\u001b[0mport\u001b[0m\u001b[0;34m)\u001b[0m\u001b[0;34m\u001b[0m\u001b[0;34m\u001b[0m\u001b[0m\n\u001b[1;32m   1078\u001b[0m             \u001b[0mlogger\u001b[0m\u001b[0;34m.\u001b[0m\u001b[0mexception\u001b[0m\u001b[0;34m(\u001b[0m\u001b[0mmsg\u001b[0m\u001b[0;34m)\u001b[0m\u001b[0;34m\u001b[0m\u001b[0;34m\u001b[0m\u001b[0m\n\u001b[0;32m-> 1079\u001b[0;31m             \u001b[0;32mraise\u001b[0m \u001b[0mPy4JNetworkError\u001b[0m\u001b[0;34m(\u001b[0m\u001b[0mmsg\u001b[0m\u001b[0;34m,\u001b[0m \u001b[0me\u001b[0m\u001b[0;34m)\u001b[0m\u001b[0;34m\u001b[0m\u001b[0;34m\u001b[0m\u001b[0m\n\u001b[0m\u001b[1;32m   1080\u001b[0m \u001b[0;34m\u001b[0m\u001b[0m\n\u001b[1;32m   1081\u001b[0m     \u001b[0;32mdef\u001b[0m \u001b[0m_authenticate_connection\u001b[0m\u001b[0;34m(\u001b[0m\u001b[0mself\u001b[0m\u001b[0;34m)\u001b[0m\u001b[0;34m:\u001b[0m\u001b[0;34m\u001b[0m\u001b[0;34m\u001b[0m\u001b[0m\n",
            "\u001b[0;31mPy4JNetworkError\u001b[0m: An error occurred while trying to connect to the Java server (127.0.0.1:45255)"
          ]
        }
      ]
    },
    {
      "cell_type": "markdown",
      "source": [
        "## The count of each type of polling status_code Three minutes after the order creation time"
      ],
      "metadata": {
        "id": "PT1PW89adRNV"
      }
    },
    {
      "cell_type": "code",
      "source": [
        "query = '''SELECT status_code, count(status_code) as count_status_code\n",
        "           FROM ORDERS\n",
        "           WHERE status_code IS NOT NULL\n",
        "           AND polling_creation_time <= (order_creation_time + INTERVAL 3 minutes) \n",
        "           GROUP BY status_code\n",
        "       '''\n",
        "sc.sql(query).show()"
      ],
      "metadata": {
        "colab": {
          "base_uri": "https://localhost:8080/"
        },
        "id": "VQslU2oqdW2M",
        "outputId": "3b625ea0-0bdb-4892-c128-482b52197209"
      },
      "execution_count": 28,
      "outputs": [
        {
          "output_type": "stream",
          "name": "stdout",
          "text": [
            "+-----------+-----------------+\n",
            "|status_code|count_status_code|\n",
            "+-----------+-----------------+\n",
            "|        200|          7610333|\n",
            "|          0|            59718|\n",
            "|        401|              237|\n",
            "+-----------+-----------------+\n",
            "\n"
          ]
        }
      ]
    },
    {
      "cell_type": "markdown",
      "source": [
        "## The count of each type of polling status_code One hour before the order creation time"
      ],
      "metadata": {
        "id": "qgZisWBxdi5b"
      }
    },
    {
      "cell_type": "code",
      "source": [
        "query = '''SELECT status_code, count(status_code) as count_status_code\n",
        "           FROM ORDERS\n",
        "           WHERE status_code IS NOT NULL\n",
        "           AND polling_creation_time <= (order_creation_time - INTERVAL 1 hour) \n",
        "           GROUP BY status_code\n",
        "       '''\n",
        "sc.sql(query).show()"
      ],
      "metadata": {
        "colab": {
          "base_uri": "https://localhost:8080/"
        },
        "id": "73xW5XCidolj",
        "outputId": "dea21e85-b166-4df0-fd44-e179799d2911"
      },
      "execution_count": 29,
      "outputs": [
        {
          "output_type": "stream",
          "name": "stdout",
          "text": [
            "+-----------+-----------------+\n",
            "|status_code|count_status_code|\n",
            "+-----------+-----------------+\n",
            "|        200|          6578621|\n",
            "|          0|            49335|\n",
            "|        401|              211|\n",
            "+-----------+-----------------+\n",
            "\n"
          ]
        }
      ]
    },
    {
      "cell_type": "markdown",
      "source": [
        "## The count of each type of polling error_code Three minutes before the order creation time"
      ],
      "metadata": {
        "id": "2A-ZB9WgeDDa"
      }
    },
    {
      "cell_type": "code",
      "source": [
        "query = '''SELECT error_code, count(error_code) as count_error_code\n",
        "           FROM ORDERS\n",
        "           WHERE polling_creation_time <= (order_creation_time - INTERVAL 3 minutes)\n",
        "           AND error_code IS NOT NULL\n",
        "           GROUP BY error_code\n",
        "        '''\n",
        "sc.sql(query).show()"
      ],
      "metadata": {
        "colab": {
          "base_uri": "https://localhost:8080/"
        },
        "id": "YBicUJIPr1NG",
        "outputId": "89e29f83-3de0-4496-e2f1-97993c34da7b"
      },
      "execution_count": 36,
      "outputs": [
        {
          "output_type": "stream",
          "name": "stdout",
          "text": [
            "+-------------+----------------+\n",
            "|   error_code|count_error_code|\n",
            "+-------------+----------------+\n",
            "| ECONNABORTED|           40528|\n",
            "|GENERIC_ERROR|           18137|\n",
            "+-------------+----------------+\n",
            "\n"
          ]
        }
      ]
    },
    {
      "cell_type": "markdown",
      "source": [
        "## The count of each type of polling error_code Three minutes after the order creation time"
      ],
      "metadata": {
        "id": "lWTuc5WyemS6"
      }
    },
    {
      "cell_type": "code",
      "source": [
        "query = '''SELECT error_code, count(error_code) as count_error_code\n",
        "           FROM ORDERS\n",
        "           WHERE polling_creation_time <= (order_creation_time + INTERVAL 3 minutes)\n",
        "           AND error_code IS NOT NULL\n",
        "           GROUP BY error_code\n",
        "        '''\n",
        "sc.sql(query).show()"
      ],
      "metadata": {
        "colab": {
          "base_uri": "https://localhost:8080/"
        },
        "id": "pfNZAr14ep92",
        "outputId": "95f59b99-1525-4399-92d5-0f4b0cab407a"
      },
      "execution_count": 35,
      "outputs": [
        {
          "output_type": "stream",
          "name": "stdout",
          "text": [
            "+-------------+----------------+\n",
            "|   error_code|count_error_code|\n",
            "+-------------+----------------+\n",
            "| ECONNABORTED|           41419|\n",
            "|GENERIC_ERROR|           18536|\n",
            "+-------------+----------------+\n",
            "\n"
          ]
        }
      ]
    },
    {
      "cell_type": "markdown",
      "source": [
        "## The count of each type of polling error_code One hour before the order creation time"
      ],
      "metadata": {
        "id": "4lleD5pheyRp"
      }
    },
    {
      "cell_type": "code",
      "source": [
        "query = '''SELECT error_code, count(error_code) as count_error_code\n",
        "           FROM ORDERS\n",
        "           WHERE polling_creation_time <= (order_creation_time - INTERVAL 1 hour) \n",
        "           AND error_code IS NOT NULL\n",
        "           GROUP BY error_code\n",
        "        '''\n",
        "sc.sql(query).show()"
      ],
      "metadata": {
        "colab": {
          "base_uri": "https://localhost:8080/"
        },
        "id": "NDHEITiPe4TZ",
        "outputId": "7742912e-eecb-4135-b126-03546af0000c"
      },
      "execution_count": 34,
      "outputs": [
        {
          "output_type": "stream",
          "name": "stdout",
          "text": [
            "+-------------+----------------+\n",
            "|   error_code|count_error_code|\n",
            "+-------------+----------------+\n",
            "| ECONNABORTED|           33790|\n",
            "|GENERIC_ERROR|           15756|\n",
            "+-------------+----------------+\n",
            "\n"
          ]
        }
      ]
    },
    {
      "cell_type": "markdown",
      "source": [
        "## The count of responses without error codes Three minutes before the order creation time"
      ],
      "metadata": {
        "id": "mAl8R-Qff4pQ"
      }
    },
    {
      "cell_type": "code",
      "source": [
        "query = '''SELECT count(1) as responses_without_error\n",
        "           FROM ORDERS\n",
        "           WHERE polling_creation_time <= (order_creation_time - INTERVAL 3 minutes)\n",
        "           AND error_code IS NULL\n",
        "        '''\n",
        "sc.sql(query).show()"
      ],
      "metadata": {
        "colab": {
          "base_uri": "https://localhost:8080/"
        },
        "id": "vuLA-MFAsmRk",
        "outputId": "014552f0-f23a-4f9c-df1d-68af674084be"
      },
      "execution_count": 48,
      "outputs": [
        {
          "output_type": "stream",
          "name": "stdout",
          "text": [
            "+-----------------------+\n",
            "|responses_without_error|\n",
            "+-----------------------+\n",
            "|                7509318|\n",
            "+-----------------------+\n",
            "\n"
          ]
        }
      ]
    },
    {
      "cell_type": "markdown",
      "source": [
        "## The count of responses without error codes Three minutes after the order creation time"
      ],
      "metadata": {
        "id": "yhzq5nWzgAMc"
      }
    },
    {
      "cell_type": "code",
      "source": [
        "query = '''SELECT count(1) as responses_without_error\n",
        "           FROM ORDERS\n",
        "           WHERE polling_creation_time <= (order_creation_time + INTERVAL 3 minutes)\n",
        "           AND error_code IS NULL\n",
        "        '''\n",
        "sc.sql(query).show()"
      ],
      "metadata": {
        "colab": {
          "base_uri": "https://localhost:8080/"
        },
        "id": "RvZuhgCRhw7B",
        "outputId": "4d9df43c-fd04-4a5a-ef67-6b8835bc134f"
      },
      "execution_count": 49,
      "outputs": [
        {
          "output_type": "stream",
          "name": "stdout",
          "text": [
            "+-----------------------+\n",
            "|responses_without_error|\n",
            "+-----------------------+\n",
            "|                7610333|\n",
            "+-----------------------+\n",
            "\n"
          ]
        }
      ]
    },
    {
      "cell_type": "markdown",
      "source": [
        "## The count of responses without error codes One hour before the order creation time"
      ],
      "metadata": {
        "id": "xOJSeYA6iFKD"
      }
    },
    {
      "cell_type": "code",
      "source": [
        "query = '''SELECT count(1) as responses_without_error\n",
        "           FROM ORDERS\n",
        "           WHERE polling_creation_time <= (order_creation_time - INTERVAL 1 hour)\n",
        "           AND error_code IS NULL\n",
        "        '''\n",
        "sc.sql(query).show()"
      ],
      "metadata": {
        "id": "nKT8r624t2Dh",
        "colab": {
          "base_uri": "https://localhost:8080/"
        },
        "outputId": "8936502b-48e1-4113-9a35-dda55fc0f418"
      },
      "execution_count": 52,
      "outputs": [
        {
          "output_type": "stream",
          "name": "stdout",
          "text": [
            "+-----------------------+\n",
            "|responses_without_error|\n",
            "+-----------------------+\n",
            "|                6578621|\n",
            "+-----------------------+\n",
            "\n"
          ]
        }
      ]
    },
    {
      "cell_type": "code",
      "source": [
        "df_enhanced.where('status IS NOT NULL').show()"
      ],
      "metadata": {
        "colab": {
          "base_uri": "https://localhost:8080/"
        },
        "id": "yAzLpBjkhNZ-",
        "outputId": "3fc167c0-3a3b-45b5-b5fe-6eb12d88433e"
      },
      "execution_count": 58,
      "outputs": [
        {
          "output_type": "stream",
          "name": "stdout",
          "text": [
            "+--------------------+-------------------+---------+---------------------+----------+-----------+--------------------+-------+--------------------+--------------------+\n",
            "|           device_id|order_creation_time| order_id|polling_creation_time|error_code|status_code|status_creation_time| status|       pct_preceding|       pct_following|\n",
            "+--------------------+-------------------+---------+---------------------+----------+-----------+--------------------+-------+--------------------+--------------------+\n",
            "|4daffa4e-a64d-4a3...|2020-02-26 14:26:46|102534563| 2020-02-26 00:00:...|      null|        200|2020-02-26 22:44:...| ONLINE|2020-02-26 00:00:...|2020-02-26 00:00:...|\n",
            "|4daffa4e-a64d-4a3...|2020-02-26 14:26:46|102534563| 2020-02-26 00:00:...|      null|        200|2020-02-26 22:44:...|OFFLINE|2020-02-26 00:00:...|2020-02-26 00:00:...|\n",
            "|4daffa4e-a64d-4a3...|2020-02-26 11:32:58|102500991| 2020-02-26 00:00:...|      null|        200|2020-02-26 22:44:...| ONLINE|2020-02-26 00:00:...|2020-02-26 00:00:...|\n",
            "|4daffa4e-a64d-4a3...|2020-02-26 11:32:58|102500991| 2020-02-26 00:00:...|      null|        200|2020-02-26 22:44:...|OFFLINE|2020-02-26 00:00:...|2020-02-26 00:00:...|\n",
            "|4daffa4e-a64d-4a3...|2020-02-26 11:47:03|102503329| 2020-02-26 00:00:...|      null|        200|2020-02-26 22:44:...| ONLINE|2020-02-26 00:00:...|2020-02-26 00:00:...|\n",
            "|4daffa4e-a64d-4a3...|2020-02-26 11:47:03|102503329| 2020-02-26 00:00:...|      null|        200|2020-02-26 22:44:...|OFFLINE|2020-02-26 00:00:...|2020-02-26 00:00:...|\n",
            "|4daffa4e-a64d-4a3...|2020-02-26 20:55:49|102637878| 2020-02-26 00:00:...|      null|        200|2020-02-26 22:44:...| ONLINE|2020-02-26 00:00:...|2020-02-26 00:00:...|\n",
            "|4daffa4e-a64d-4a3...|2020-02-26 20:55:49|102637878| 2020-02-26 00:00:...|      null|        200|2020-02-26 22:44:...|OFFLINE|2020-02-26 00:00:...|2020-02-26 00:00:...|\n",
            "|4daffa4e-a64d-4a3...|2020-02-26 13:33:35|102524107| 2020-02-26 00:00:...|      null|        200|2020-02-26 22:44:...| ONLINE|2020-02-26 00:00:...|2020-02-26 00:00:...|\n",
            "|4daffa4e-a64d-4a3...|2020-02-26 13:33:35|102524107| 2020-02-26 00:00:...|      null|        200|2020-02-26 22:44:...|OFFLINE|2020-02-26 00:00:...|2020-02-26 00:00:...|\n",
            "|4daffa4e-a64d-4a3...|2020-02-26 19:17:58|102604737| 2020-02-26 00:00:...|      null|        200|2020-02-26 22:44:...| ONLINE|2020-02-26 00:00:...|2020-02-26 00:00:...|\n",
            "|4daffa4e-a64d-4a3...|2020-02-26 19:17:58|102604737| 2020-02-26 00:00:...|      null|        200|2020-02-26 22:44:...|OFFLINE|2020-02-26 00:00:...|2020-02-26 00:00:...|\n",
            "|4daffa4e-a64d-4a3...|2020-02-26 11:56:07|102504010| 2020-02-26 00:00:...|      null|        200|2020-02-26 22:44:...| ONLINE|2020-02-26 00:00:...|2020-02-26 00:00:...|\n",
            "|4daffa4e-a64d-4a3...|2020-02-26 11:56:07|102504010| 2020-02-26 00:00:...|      null|        200|2020-02-26 22:44:...|OFFLINE|2020-02-26 00:00:...|2020-02-26 00:00:...|\n",
            "|4daffa4e-a64d-4a3...|2020-02-26 11:48:15|102503496| 2020-02-26 00:00:...|      null|        200|2020-02-26 22:44:...| ONLINE|2020-02-26 00:00:...|2020-02-26 00:00:...|\n",
            "|4daffa4e-a64d-4a3...|2020-02-26 11:48:15|102503496| 2020-02-26 00:00:...|      null|        200|2020-02-26 22:44:...|OFFLINE|2020-02-26 00:00:...|2020-02-26 00:00:...|\n",
            "|4daffa4e-a64d-4a3...|2020-02-26 13:10:03|102519596| 2020-02-26 00:00:...|      null|        200|2020-02-26 22:44:...| ONLINE|2020-02-26 00:00:...|2020-02-26 00:00:...|\n",
            "|4daffa4e-a64d-4a3...|2020-02-26 13:10:03|102519596| 2020-02-26 00:00:...|      null|        200|2020-02-26 22:44:...|OFFLINE|2020-02-26 00:00:...|2020-02-26 00:00:...|\n",
            "|4daffa4e-a64d-4a3...|2020-02-26 11:30:46|102500453| 2020-02-26 00:00:...|      null|        200|2020-02-26 22:44:...| ONLINE|2020-02-26 00:00:...|2020-02-26 00:00:...|\n",
            "|4daffa4e-a64d-4a3...|2020-02-26 11:30:46|102500453| 2020-02-26 00:00:...|      null|        200|2020-02-26 22:44:...|OFFLINE|2020-02-26 00:00:...|2020-02-26 00:00:...|\n",
            "+--------------------+-------------------+---------+---------------------+----------+-----------+--------------------+-------+--------------------+--------------------+\n",
            "only showing top 20 rows\n",
            "\n"
          ]
        }
      ]
    },
    {
      "cell_type": "code",
      "source": [
        ""
      ],
      "metadata": {
        "id": "F2PXrQQxi3zQ"
      },
      "execution_count": null,
      "outputs": []
    }
  ]
}